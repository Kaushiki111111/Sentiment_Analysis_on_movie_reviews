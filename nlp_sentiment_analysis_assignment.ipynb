{
  "cells": [
    {
      "cell_type": "markdown",
      "metadata": {
        "id": "8Gf0u3uzd7oM"
      },
      "source": [
        "# Assignment - Sentiment Analysis of Movie Reviews\n",
        "\n",
        "![](https://i.imgur.com/6Wfmf2S.png)\n",
        "\n",
        "> **Problem Statement**: Apply the TF-IDF technique to train ML models for sentiment analysis using data from the \"[Sentiment Analysis on Movie Reviews](https://www.kaggle.com/c/sentiment-analysis-on-movie-reviews)\" Kaggle competition.\n",
        "\n",
        "\n",
        "Outline:\n",
        "\n",
        "1. Download and Explore Dataset\n",
        "2. Implement the TF-IDF Technique\n",
        "3. Train baseline model & submit to Kaggle\n",
        "4. Train & finetune different ML models\n",
        "3. Document & submit your notebook\n",
        "\n",
        "\n",
        "Dataset: https://www.kaggle.com/c/sentiment-analysis-on-movie-reviews\n"
      ]
    },
    {
      "cell_type": "markdown",
      "metadata": {
        "id": "hw0pygCOefi9"
      },
      "source": [
        "## Download and Explore the Data\n",
        "\n",
        "Outline:\n",
        "\n",
        "1. Download Dataset from Kaggle\n",
        "2. Explore and visualize data"
      ]
    },
    {
      "cell_type": "markdown",
      "metadata": {
        "id": "KPS8buEdtllZ"
      },
      "source": [
        "### Download Dataset from Kaggle\n",
        "\n",
        "- Read the \"Description\", \"Evaluation\" and \"Data\" sections on the Kaggle competition page carefully\n",
        "- Make sure to download the `kaggle.json` file from your [Kaggle account](https://kaggle.com/me/account) and upload it on Colab"
      ]
    },
    {
      "cell_type": "code",
      "execution_count": 1,
      "metadata": {
        "id": "FnaGd60Zuxgg"
      },
      "outputs": [],
      "source": [
        "import pandas as pd"
      ]
    },
    {
      "cell_type": "code",
      "execution_count": 2,
      "metadata": {
        "id": "lcRhDakmuxEm"
      },
      "outputs": [],
      "source": [
        "import os"
      ]
    },
    {
      "cell_type": "code",
      "source": [
        "pwd"
      ],
      "metadata": {
        "colab": {
          "base_uri": "https://localhost:8080/",
          "height": 36
        },
        "id": "ix-Ps0jo7PvV",
        "outputId": "1f92269a-22c3-48ff-dc2d-4058bb786be2"
      },
      "execution_count": 3,
      "outputs": [
        {
          "output_type": "execute_result",
          "data": {
            "text/plain": [
              "'/content'"
            ],
            "application/vnd.google.colaboratory.intrinsic+json": {
              "type": "string"
            }
          },
          "metadata": {},
          "execution_count": 3
        }
      ]
    },
    {
      "cell_type": "code",
      "execution_count": 4,
      "metadata": {
        "id": "MdQqvmtvend_"
      },
      "outputs": [],
      "source": [
        "os.environ['KAGGLE_CONFIG_DIR']='/content'"
      ]
    },
    {
      "cell_type": "code",
      "execution_count": 5,
      "metadata": {
        "colab": {
          "base_uri": "https://localhost:8080/"
        },
        "id": "nEFLvfunenbr",
        "outputId": "f79871fd-fcef-49ad-a83b-1ddd6c5be9ac"
      },
      "outputs": [
        {
          "output_type": "stream",
          "name": "stdout",
          "text": [
            "Warning: Your Kaggle API key is readable by other users on this system! To fix this, you can run 'chmod 600 /content/kaggle.json'\n",
            "sentiment-analysis-on-movie-reviews.zip: Skipping, found more recently modified local copy (use --force to force download)\n"
          ]
        }
      ],
      "source": [
        "!kaggle competitions download -c sentiment-analysis-on-movie-reviews"
      ]
    },
    {
      "cell_type": "code",
      "execution_count": 6,
      "metadata": {
        "colab": {
          "base_uri": "https://localhost:8080/"
        },
        "id": "QOq7CBqftvz-",
        "outputId": "7aa008b4-3f42-4663-9aee-a2883d9a19fc"
      },
      "outputs": [
        {
          "output_type": "stream",
          "name": "stdout",
          "text": [
            "Archive:  sentiment-analysis-on-movie-reviews.zip\n",
            "replace mydata/sampleSubmission.csv? [y]es, [n]o, [A]ll, [N]one, [r]ename: A\n",
            "  inflating: mydata/sampleSubmission.csv  \n",
            "  inflating: mydata/test.tsv.zip     \n",
            "  inflating: mydata/train.tsv.zip    \n"
          ]
        }
      ],
      "source": [
        "!unzip sentiment-analysis-on-movie-reviews.zip -d mydata"
      ]
    },
    {
      "cell_type": "code",
      "source": [
        "train_fname='/content/mydata/train.tsv.zip'\n",
        "test_fname='/content/mydata/test.tsv.zip'\n",
        "sample_subfname=\"/content/mydata/sampleSubmission.csv\""
      ],
      "metadata": {
        "id": "aSiqM4-l7wyf"
      },
      "execution_count": 7,
      "outputs": []
    },
    {
      "cell_type": "markdown",
      "metadata": {
        "id": "CVbujLQ9tpAb"
      },
      "source": [
        "### Explore and Visualize Data\n",
        "\n",
        "* Load the train, test, and submission files using Pandas\n",
        "* Explore rows, columns, sample values etc.\n",
        "* Visualize distribution of target columns"
      ]
    },
    {
      "cell_type": "code",
      "execution_count": 8,
      "metadata": {
        "id": "H2JenReXw7SI"
      },
      "outputs": [],
      "source": [
        "raw_df=pd.read_csv(train_fname,sep='\\t')"
      ]
    },
    {
      "cell_type": "code",
      "execution_count": 9,
      "metadata": {
        "id": "oPwLSKsrvdTa",
        "colab": {
          "base_uri": "https://localhost:8080/",
          "height": 468
        },
        "outputId": "3ef44e7b-7574-48d4-fef3-298b0963a9be"
      },
      "outputs": [
        {
          "output_type": "execute_result",
          "data": {
            "text/plain": [
              "        PhraseId  SentenceId  \\\n",
              "0              1           1   \n",
              "1              2           1   \n",
              "2              3           1   \n",
              "3              4           1   \n",
              "4              5           1   \n",
              "...          ...         ...   \n",
              "156055    156056        8544   \n",
              "156056    156057        8544   \n",
              "156057    156058        8544   \n",
              "156058    156059        8544   \n",
              "156059    156060        8544   \n",
              "\n",
              "                                                   Phrase  Sentiment  \n",
              "0       A series of escapades demonstrating the adage ...          1  \n",
              "1       A series of escapades demonstrating the adage ...          2  \n",
              "2                                                A series          2  \n",
              "3                                                       A          2  \n",
              "4                                                  series          2  \n",
              "...                                                   ...        ...  \n",
              "156055                                          Hearst 's          2  \n",
              "156056                          forced avuncular chortles          1  \n",
              "156057                                 avuncular chortles          3  \n",
              "156058                                          avuncular          2  \n",
              "156059                                           chortles          2  \n",
              "\n",
              "[156060 rows x 4 columns]"
            ],
            "text/html": [
              "\n",
              "  <div id=\"df-3c7a7962-a648-410a-8967-f0606ae6a544\">\n",
              "    <div class=\"colab-df-container\">\n",
              "      <div>\n",
              "<style scoped>\n",
              "    .dataframe tbody tr th:only-of-type {\n",
              "        vertical-align: middle;\n",
              "    }\n",
              "\n",
              "    .dataframe tbody tr th {\n",
              "        vertical-align: top;\n",
              "    }\n",
              "\n",
              "    .dataframe thead th {\n",
              "        text-align: right;\n",
              "    }\n",
              "</style>\n",
              "<table border=\"1\" class=\"dataframe\">\n",
              "  <thead>\n",
              "    <tr style=\"text-align: right;\">\n",
              "      <th></th>\n",
              "      <th>PhraseId</th>\n",
              "      <th>SentenceId</th>\n",
              "      <th>Phrase</th>\n",
              "      <th>Sentiment</th>\n",
              "    </tr>\n",
              "  </thead>\n",
              "  <tbody>\n",
              "    <tr>\n",
              "      <th>0</th>\n",
              "      <td>1</td>\n",
              "      <td>1</td>\n",
              "      <td>A series of escapades demonstrating the adage ...</td>\n",
              "      <td>1</td>\n",
              "    </tr>\n",
              "    <tr>\n",
              "      <th>1</th>\n",
              "      <td>2</td>\n",
              "      <td>1</td>\n",
              "      <td>A series of escapades demonstrating the adage ...</td>\n",
              "      <td>2</td>\n",
              "    </tr>\n",
              "    <tr>\n",
              "      <th>2</th>\n",
              "      <td>3</td>\n",
              "      <td>1</td>\n",
              "      <td>A series</td>\n",
              "      <td>2</td>\n",
              "    </tr>\n",
              "    <tr>\n",
              "      <th>3</th>\n",
              "      <td>4</td>\n",
              "      <td>1</td>\n",
              "      <td>A</td>\n",
              "      <td>2</td>\n",
              "    </tr>\n",
              "    <tr>\n",
              "      <th>4</th>\n",
              "      <td>5</td>\n",
              "      <td>1</td>\n",
              "      <td>series</td>\n",
              "      <td>2</td>\n",
              "    </tr>\n",
              "    <tr>\n",
              "      <th>...</th>\n",
              "      <td>...</td>\n",
              "      <td>...</td>\n",
              "      <td>...</td>\n",
              "      <td>...</td>\n",
              "    </tr>\n",
              "    <tr>\n",
              "      <th>156055</th>\n",
              "      <td>156056</td>\n",
              "      <td>8544</td>\n",
              "      <td>Hearst 's</td>\n",
              "      <td>2</td>\n",
              "    </tr>\n",
              "    <tr>\n",
              "      <th>156056</th>\n",
              "      <td>156057</td>\n",
              "      <td>8544</td>\n",
              "      <td>forced avuncular chortles</td>\n",
              "      <td>1</td>\n",
              "    </tr>\n",
              "    <tr>\n",
              "      <th>156057</th>\n",
              "      <td>156058</td>\n",
              "      <td>8544</td>\n",
              "      <td>avuncular chortles</td>\n",
              "      <td>3</td>\n",
              "    </tr>\n",
              "    <tr>\n",
              "      <th>156058</th>\n",
              "      <td>156059</td>\n",
              "      <td>8544</td>\n",
              "      <td>avuncular</td>\n",
              "      <td>2</td>\n",
              "    </tr>\n",
              "    <tr>\n",
              "      <th>156059</th>\n",
              "      <td>156060</td>\n",
              "      <td>8544</td>\n",
              "      <td>chortles</td>\n",
              "      <td>2</td>\n",
              "    </tr>\n",
              "  </tbody>\n",
              "</table>\n",
              "<p>156060 rows × 4 columns</p>\n",
              "</div>\n",
              "      <button class=\"colab-df-convert\" onclick=\"convertToInteractive('df-3c7a7962-a648-410a-8967-f0606ae6a544')\"\n",
              "              title=\"Convert this dataframe to an interactive table.\"\n",
              "              style=\"display:none;\">\n",
              "        \n",
              "  <svg xmlns=\"http://www.w3.org/2000/svg\" height=\"24px\"viewBox=\"0 0 24 24\"\n",
              "       width=\"24px\">\n",
              "    <path d=\"M0 0h24v24H0V0z\" fill=\"none\"/>\n",
              "    <path d=\"M18.56 5.44l.94 2.06.94-2.06 2.06-.94-2.06-.94-.94-2.06-.94 2.06-2.06.94zm-11 1L8.5 8.5l.94-2.06 2.06-.94-2.06-.94L8.5 2.5l-.94 2.06-2.06.94zm10 10l.94 2.06.94-2.06 2.06-.94-2.06-.94-.94-2.06-.94 2.06-2.06.94z\"/><path d=\"M17.41 7.96l-1.37-1.37c-.4-.4-.92-.59-1.43-.59-.52 0-1.04.2-1.43.59L10.3 9.45l-7.72 7.72c-.78.78-.78 2.05 0 2.83L4 21.41c.39.39.9.59 1.41.59.51 0 1.02-.2 1.41-.59l7.78-7.78 2.81-2.81c.8-.78.8-2.07 0-2.86zM5.41 20L4 18.59l7.72-7.72 1.47 1.35L5.41 20z\"/>\n",
              "  </svg>\n",
              "      </button>\n",
              "      \n",
              "  <style>\n",
              "    .colab-df-container {\n",
              "      display:flex;\n",
              "      flex-wrap:wrap;\n",
              "      gap: 12px;\n",
              "    }\n",
              "\n",
              "    .colab-df-convert {\n",
              "      background-color: #E8F0FE;\n",
              "      border: none;\n",
              "      border-radius: 50%;\n",
              "      cursor: pointer;\n",
              "      display: none;\n",
              "      fill: #1967D2;\n",
              "      height: 32px;\n",
              "      padding: 0 0 0 0;\n",
              "      width: 32px;\n",
              "    }\n",
              "\n",
              "    .colab-df-convert:hover {\n",
              "      background-color: #E2EBFA;\n",
              "      box-shadow: 0px 1px 2px rgba(60, 64, 67, 0.3), 0px 1px 3px 1px rgba(60, 64, 67, 0.15);\n",
              "      fill: #174EA6;\n",
              "    }\n",
              "\n",
              "    [theme=dark] .colab-df-convert {\n",
              "      background-color: #3B4455;\n",
              "      fill: #D2E3FC;\n",
              "    }\n",
              "\n",
              "    [theme=dark] .colab-df-convert:hover {\n",
              "      background-color: #434B5C;\n",
              "      box-shadow: 0px 1px 3px 1px rgba(0, 0, 0, 0.15);\n",
              "      filter: drop-shadow(0px 1px 2px rgba(0, 0, 0, 0.3));\n",
              "      fill: #FFFFFF;\n",
              "    }\n",
              "  </style>\n",
              "\n",
              "      <script>\n",
              "        const buttonEl =\n",
              "          document.querySelector('#df-3c7a7962-a648-410a-8967-f0606ae6a544 button.colab-df-convert');\n",
              "        buttonEl.style.display =\n",
              "          google.colab.kernel.accessAllowed ? 'block' : 'none';\n",
              "\n",
              "        async function convertToInteractive(key) {\n",
              "          const element = document.querySelector('#df-3c7a7962-a648-410a-8967-f0606ae6a544');\n",
              "          const dataTable =\n",
              "            await google.colab.kernel.invokeFunction('convertToInteractive',\n",
              "                                                     [key], {});\n",
              "          if (!dataTable) return;\n",
              "\n",
              "          const docLinkHtml = 'Like what you see? Visit the ' +\n",
              "            '<a target=\"_blank\" href=https://colab.research.google.com/notebooks/data_table.ipynb>data table notebook</a>'\n",
              "            + ' to learn more about interactive tables.';\n",
              "          element.innerHTML = '';\n",
              "          dataTable['output_type'] = 'display_data';\n",
              "          await google.colab.output.renderOutput(dataTable, element);\n",
              "          const docLink = document.createElement('div');\n",
              "          docLink.innerHTML = docLinkHtml;\n",
              "          element.appendChild(docLink);\n",
              "        }\n",
              "      </script>\n",
              "    </div>\n",
              "  </div>\n",
              "  "
            ]
          },
          "metadata": {},
          "execution_count": 9
        }
      ],
      "source": [
        "raw_df"
      ]
    },
    {
      "cell_type": "code",
      "execution_count": 10,
      "metadata": {
        "id": "4-cvRH3HenYx",
        "colab": {
          "base_uri": "https://localhost:8080/",
          "height": 53
        },
        "outputId": "523485cf-3b80-472f-e676-c66fd51bbdf2"
      },
      "outputs": [
        {
          "output_type": "execute_result",
          "data": {
            "text/plain": [
              "'\\nThe sentiment labels are:\\n\\n0 - negative\\n1 - somewhat negative\\n2 - neutral\\n3 - somewhat positive\\n4 - positive\\n'"
            ],
            "application/vnd.google.colaboratory.intrinsic+json": {
              "type": "string"
            }
          },
          "metadata": {},
          "execution_count": 10
        }
      ],
      "source": [
        "raw_df.Sentiment.value_counts()\n",
        "'''\n",
        "The sentiment labels are:\n",
        "\n",
        "0 - negative\n",
        "1 - somewhat negative\n",
        "2 - neutral\n",
        "3 - somewhat positive\n",
        "4 - positive\n",
        "'''"
      ]
    },
    {
      "cell_type": "code",
      "execution_count": 11,
      "metadata": {
        "colab": {
          "base_uri": "https://localhost:8080/"
        },
        "id": "EF3B9tjTxJVn",
        "outputId": "bec40b5d-1b5a-4f85-a708-54f7fdcd7cc4"
      },
      "outputs": [
        {
          "output_type": "execute_result",
          "data": {
            "text/plain": [
              "array(['a case of too many chefs fussing over too weak a recipe',\n",
              "       'parable of renewal', \"are n't your bailiwick\",\n",
              "       'caring for animals and', 'still can be made', 'most delightful',\n",
              "       'is smart , not cloying',\n",
              "       \"channeling Kathy Baker 's creepy turn as the repressed mother on Boston Public just as much as 8 Women 's Augustine\",\n",
              "       'insultingly inept and artificial examination', 'enough interest'],\n",
              "      dtype=object)"
            ]
          },
          "metadata": {},
          "execution_count": 11
        }
      ],
      "source": [
        "raw_df.Phrase.sample(10).values\n"
      ]
    },
    {
      "cell_type": "code",
      "execution_count": 12,
      "metadata": {
        "colab": {
          "base_uri": "https://localhost:8080/"
        },
        "id": "ZwubETUvxTBo",
        "outputId": "280b8d81-46de-482f-e7b2-7cc8ddc1c77b"
      },
      "outputs": [
        {
          "output_type": "execute_result",
          "data": {
            "text/plain": [
              "(156060, 4)"
            ]
          },
          "metadata": {},
          "execution_count": 12
        }
      ],
      "source": [
        "raw_df.shape"
      ]
    },
    {
      "cell_type": "code",
      "source": [
        "raw_df.columns"
      ],
      "metadata": {
        "colab": {
          "base_uri": "https://localhost:8080/"
        },
        "id": "5js9jMJb-qiO",
        "outputId": "2f5e4761-462a-46d9-eaf6-ba19b9722ed4"
      },
      "execution_count": 13,
      "outputs": [
        {
          "output_type": "execute_result",
          "data": {
            "text/plain": [
              "Index(['PhraseId', 'SentenceId', 'Phrase', 'Sentiment'], dtype='object')"
            ]
          },
          "metadata": {},
          "execution_count": 13
        }
      ]
    },
    {
      "cell_type": "code",
      "execution_count": 14,
      "metadata": {
        "colab": {
          "base_uri": "https://localhost:8080/",
          "height": 424
        },
        "id": "l0Skd9KnxdjV",
        "outputId": "bdc723c1-f80a-43f1-ef37-4d626db199ac"
      },
      "outputs": [
        {
          "output_type": "execute_result",
          "data": {
            "text/plain": [
              "       PhraseId  SentenceId                                             Phrase\n",
              "0        156061        8545  An intermittently pleasing but mostly routine ...\n",
              "1        156062        8545  An intermittently pleasing but mostly routine ...\n",
              "2        156063        8545                                                 An\n",
              "3        156064        8545  intermittently pleasing but mostly routine effort\n",
              "4        156065        8545         intermittently pleasing but mostly routine\n",
              "...         ...         ...                                                ...\n",
              "66287    222348       11855             A long-winded , predictable scenario .\n",
              "66288    222349       11855               A long-winded , predictable scenario\n",
              "66289    222350       11855                                    A long-winded ,\n",
              "66290    222351       11855                                      A long-winded\n",
              "66291    222352       11855                               predictable scenario\n",
              "\n",
              "[66292 rows x 3 columns]"
            ],
            "text/html": [
              "\n",
              "  <div id=\"df-0ea5374c-7f29-4458-a31a-049550617ed9\">\n",
              "    <div class=\"colab-df-container\">\n",
              "      <div>\n",
              "<style scoped>\n",
              "    .dataframe tbody tr th:only-of-type {\n",
              "        vertical-align: middle;\n",
              "    }\n",
              "\n",
              "    .dataframe tbody tr th {\n",
              "        vertical-align: top;\n",
              "    }\n",
              "\n",
              "    .dataframe thead th {\n",
              "        text-align: right;\n",
              "    }\n",
              "</style>\n",
              "<table border=\"1\" class=\"dataframe\">\n",
              "  <thead>\n",
              "    <tr style=\"text-align: right;\">\n",
              "      <th></th>\n",
              "      <th>PhraseId</th>\n",
              "      <th>SentenceId</th>\n",
              "      <th>Phrase</th>\n",
              "    </tr>\n",
              "  </thead>\n",
              "  <tbody>\n",
              "    <tr>\n",
              "      <th>0</th>\n",
              "      <td>156061</td>\n",
              "      <td>8545</td>\n",
              "      <td>An intermittently pleasing but mostly routine ...</td>\n",
              "    </tr>\n",
              "    <tr>\n",
              "      <th>1</th>\n",
              "      <td>156062</td>\n",
              "      <td>8545</td>\n",
              "      <td>An intermittently pleasing but mostly routine ...</td>\n",
              "    </tr>\n",
              "    <tr>\n",
              "      <th>2</th>\n",
              "      <td>156063</td>\n",
              "      <td>8545</td>\n",
              "      <td>An</td>\n",
              "    </tr>\n",
              "    <tr>\n",
              "      <th>3</th>\n",
              "      <td>156064</td>\n",
              "      <td>8545</td>\n",
              "      <td>intermittently pleasing but mostly routine effort</td>\n",
              "    </tr>\n",
              "    <tr>\n",
              "      <th>4</th>\n",
              "      <td>156065</td>\n",
              "      <td>8545</td>\n",
              "      <td>intermittently pleasing but mostly routine</td>\n",
              "    </tr>\n",
              "    <tr>\n",
              "      <th>...</th>\n",
              "      <td>...</td>\n",
              "      <td>...</td>\n",
              "      <td>...</td>\n",
              "    </tr>\n",
              "    <tr>\n",
              "      <th>66287</th>\n",
              "      <td>222348</td>\n",
              "      <td>11855</td>\n",
              "      <td>A long-winded , predictable scenario .</td>\n",
              "    </tr>\n",
              "    <tr>\n",
              "      <th>66288</th>\n",
              "      <td>222349</td>\n",
              "      <td>11855</td>\n",
              "      <td>A long-winded , predictable scenario</td>\n",
              "    </tr>\n",
              "    <tr>\n",
              "      <th>66289</th>\n",
              "      <td>222350</td>\n",
              "      <td>11855</td>\n",
              "      <td>A long-winded ,</td>\n",
              "    </tr>\n",
              "    <tr>\n",
              "      <th>66290</th>\n",
              "      <td>222351</td>\n",
              "      <td>11855</td>\n",
              "      <td>A long-winded</td>\n",
              "    </tr>\n",
              "    <tr>\n",
              "      <th>66291</th>\n",
              "      <td>222352</td>\n",
              "      <td>11855</td>\n",
              "      <td>predictable scenario</td>\n",
              "    </tr>\n",
              "  </tbody>\n",
              "</table>\n",
              "<p>66292 rows × 3 columns</p>\n",
              "</div>\n",
              "      <button class=\"colab-df-convert\" onclick=\"convertToInteractive('df-0ea5374c-7f29-4458-a31a-049550617ed9')\"\n",
              "              title=\"Convert this dataframe to an interactive table.\"\n",
              "              style=\"display:none;\">\n",
              "        \n",
              "  <svg xmlns=\"http://www.w3.org/2000/svg\" height=\"24px\"viewBox=\"0 0 24 24\"\n",
              "       width=\"24px\">\n",
              "    <path d=\"M0 0h24v24H0V0z\" fill=\"none\"/>\n",
              "    <path d=\"M18.56 5.44l.94 2.06.94-2.06 2.06-.94-2.06-.94-.94-2.06-.94 2.06-2.06.94zm-11 1L8.5 8.5l.94-2.06 2.06-.94-2.06-.94L8.5 2.5l-.94 2.06-2.06.94zm10 10l.94 2.06.94-2.06 2.06-.94-2.06-.94-.94-2.06-.94 2.06-2.06.94z\"/><path d=\"M17.41 7.96l-1.37-1.37c-.4-.4-.92-.59-1.43-.59-.52 0-1.04.2-1.43.59L10.3 9.45l-7.72 7.72c-.78.78-.78 2.05 0 2.83L4 21.41c.39.39.9.59 1.41.59.51 0 1.02-.2 1.41-.59l7.78-7.78 2.81-2.81c.8-.78.8-2.07 0-2.86zM5.41 20L4 18.59l7.72-7.72 1.47 1.35L5.41 20z\"/>\n",
              "  </svg>\n",
              "      </button>\n",
              "      \n",
              "  <style>\n",
              "    .colab-df-container {\n",
              "      display:flex;\n",
              "      flex-wrap:wrap;\n",
              "      gap: 12px;\n",
              "    }\n",
              "\n",
              "    .colab-df-convert {\n",
              "      background-color: #E8F0FE;\n",
              "      border: none;\n",
              "      border-radius: 50%;\n",
              "      cursor: pointer;\n",
              "      display: none;\n",
              "      fill: #1967D2;\n",
              "      height: 32px;\n",
              "      padding: 0 0 0 0;\n",
              "      width: 32px;\n",
              "    }\n",
              "\n",
              "    .colab-df-convert:hover {\n",
              "      background-color: #E2EBFA;\n",
              "      box-shadow: 0px 1px 2px rgba(60, 64, 67, 0.3), 0px 1px 3px 1px rgba(60, 64, 67, 0.15);\n",
              "      fill: #174EA6;\n",
              "    }\n",
              "\n",
              "    [theme=dark] .colab-df-convert {\n",
              "      background-color: #3B4455;\n",
              "      fill: #D2E3FC;\n",
              "    }\n",
              "\n",
              "    [theme=dark] .colab-df-convert:hover {\n",
              "      background-color: #434B5C;\n",
              "      box-shadow: 0px 1px 3px 1px rgba(0, 0, 0, 0.15);\n",
              "      filter: drop-shadow(0px 1px 2px rgba(0, 0, 0, 0.3));\n",
              "      fill: #FFFFFF;\n",
              "    }\n",
              "  </style>\n",
              "\n",
              "      <script>\n",
              "        const buttonEl =\n",
              "          document.querySelector('#df-0ea5374c-7f29-4458-a31a-049550617ed9 button.colab-df-convert');\n",
              "        buttonEl.style.display =\n",
              "          google.colab.kernel.accessAllowed ? 'block' : 'none';\n",
              "\n",
              "        async function convertToInteractive(key) {\n",
              "          const element = document.querySelector('#df-0ea5374c-7f29-4458-a31a-049550617ed9');\n",
              "          const dataTable =\n",
              "            await google.colab.kernel.invokeFunction('convertToInteractive',\n",
              "                                                     [key], {});\n",
              "          if (!dataTable) return;\n",
              "\n",
              "          const docLinkHtml = 'Like what you see? Visit the ' +\n",
              "            '<a target=\"_blank\" href=https://colab.research.google.com/notebooks/data_table.ipynb>data table notebook</a>'\n",
              "            + ' to learn more about interactive tables.';\n",
              "          element.innerHTML = '';\n",
              "          dataTable['output_type'] = 'display_data';\n",
              "          await google.colab.output.renderOutput(dataTable, element);\n",
              "          const docLink = document.createElement('div');\n",
              "          docLink.innerHTML = docLinkHtml;\n",
              "          element.appendChild(docLink);\n",
              "        }\n",
              "      </script>\n",
              "    </div>\n",
              "  </div>\n",
              "  "
            ]
          },
          "metadata": {},
          "execution_count": 14
        }
      ],
      "source": [
        "test_df=pd.read_csv(test_fname,sep='\\t')\n",
        "test_df\n"
      ]
    },
    {
      "cell_type": "code",
      "execution_count": 15,
      "metadata": {
        "id": "uT_Dci92enWk",
        "colab": {
          "base_uri": "https://localhost:8080/"
        },
        "outputId": "2d25e1aa-0a7a-4c14-8312-47c479227db5"
      },
      "outputs": [
        {
          "output_type": "execute_result",
          "data": {
            "text/plain": [
              "(66292, 3)"
            ]
          },
          "metadata": {},
          "execution_count": 15
        }
      ],
      "source": [
        "test_df.shape"
      ]
    },
    {
      "cell_type": "code",
      "execution_count": 16,
      "metadata": {
        "colab": {
          "base_uri": "https://localhost:8080/"
        },
        "id": "1ao58CXLx15G",
        "outputId": "c8f3e35b-3d97-4deb-f380-b045e489e394"
      },
      "outputs": [
        {
          "output_type": "execute_result",
          "data": {
            "text/plain": [
              "array(['begets',\n",
              "       'it to Rohmer , now 82 , to find a way to bend current technique to the service of a vision of the past that is faithful to both architectural glories and commanding open spaces of the city as it was more than two centuries ago',\n",
              "       'let down',\n",
              "       'the movie hits so close to home so much as that it hits close to home while engaging in such silliness as that snake-down-the-throat business and the inevitable shot of Schwarzenegger outrunning a fireball',\n",
              "       'By presenting an impossible romance in an impossible world',\n",
              "       'English-language copy', 'About nowhere kids',\n",
              "       \"one of Latin America 's most oppressive regimes\", 'on stage',\n",
              "       'you loved about it in 1982'], dtype=object)"
            ]
          },
          "metadata": {},
          "execution_count": 16
        }
      ],
      "source": [
        "test_df.Phrase.sample(10).values"
      ]
    },
    {
      "cell_type": "code",
      "execution_count": 17,
      "metadata": {
        "id": "-uae8Me6tt4I"
      },
      "outputs": [],
      "source": [
        "sub_df=pd.read_csv(sample_subfname)"
      ]
    },
    {
      "cell_type": "code",
      "execution_count": 18,
      "metadata": {
        "id": "Y8mJk3hxx1qA",
        "colab": {
          "base_uri": "https://localhost:8080/",
          "height": 424
        },
        "outputId": "deb40712-7c3a-4387-c8f7-94ba3f76603a"
      },
      "outputs": [
        {
          "output_type": "execute_result",
          "data": {
            "text/plain": [
              "       PhraseId  Sentiment\n",
              "0        156061          2\n",
              "1        156062          2\n",
              "2        156063          2\n",
              "3        156064          2\n",
              "4        156065          2\n",
              "...         ...        ...\n",
              "66287    222348          2\n",
              "66288    222349          2\n",
              "66289    222350          2\n",
              "66290    222351          2\n",
              "66291    222352          2\n",
              "\n",
              "[66292 rows x 2 columns]"
            ],
            "text/html": [
              "\n",
              "  <div id=\"df-f051cf61-c733-43f3-b516-1f261249adaf\">\n",
              "    <div class=\"colab-df-container\">\n",
              "      <div>\n",
              "<style scoped>\n",
              "    .dataframe tbody tr th:only-of-type {\n",
              "        vertical-align: middle;\n",
              "    }\n",
              "\n",
              "    .dataframe tbody tr th {\n",
              "        vertical-align: top;\n",
              "    }\n",
              "\n",
              "    .dataframe thead th {\n",
              "        text-align: right;\n",
              "    }\n",
              "</style>\n",
              "<table border=\"1\" class=\"dataframe\">\n",
              "  <thead>\n",
              "    <tr style=\"text-align: right;\">\n",
              "      <th></th>\n",
              "      <th>PhraseId</th>\n",
              "      <th>Sentiment</th>\n",
              "    </tr>\n",
              "  </thead>\n",
              "  <tbody>\n",
              "    <tr>\n",
              "      <th>0</th>\n",
              "      <td>156061</td>\n",
              "      <td>2</td>\n",
              "    </tr>\n",
              "    <tr>\n",
              "      <th>1</th>\n",
              "      <td>156062</td>\n",
              "      <td>2</td>\n",
              "    </tr>\n",
              "    <tr>\n",
              "      <th>2</th>\n",
              "      <td>156063</td>\n",
              "      <td>2</td>\n",
              "    </tr>\n",
              "    <tr>\n",
              "      <th>3</th>\n",
              "      <td>156064</td>\n",
              "      <td>2</td>\n",
              "    </tr>\n",
              "    <tr>\n",
              "      <th>4</th>\n",
              "      <td>156065</td>\n",
              "      <td>2</td>\n",
              "    </tr>\n",
              "    <tr>\n",
              "      <th>...</th>\n",
              "      <td>...</td>\n",
              "      <td>...</td>\n",
              "    </tr>\n",
              "    <tr>\n",
              "      <th>66287</th>\n",
              "      <td>222348</td>\n",
              "      <td>2</td>\n",
              "    </tr>\n",
              "    <tr>\n",
              "      <th>66288</th>\n",
              "      <td>222349</td>\n",
              "      <td>2</td>\n",
              "    </tr>\n",
              "    <tr>\n",
              "      <th>66289</th>\n",
              "      <td>222350</td>\n",
              "      <td>2</td>\n",
              "    </tr>\n",
              "    <tr>\n",
              "      <th>66290</th>\n",
              "      <td>222351</td>\n",
              "      <td>2</td>\n",
              "    </tr>\n",
              "    <tr>\n",
              "      <th>66291</th>\n",
              "      <td>222352</td>\n",
              "      <td>2</td>\n",
              "    </tr>\n",
              "  </tbody>\n",
              "</table>\n",
              "<p>66292 rows × 2 columns</p>\n",
              "</div>\n",
              "      <button class=\"colab-df-convert\" onclick=\"convertToInteractive('df-f051cf61-c733-43f3-b516-1f261249adaf')\"\n",
              "              title=\"Convert this dataframe to an interactive table.\"\n",
              "              style=\"display:none;\">\n",
              "        \n",
              "  <svg xmlns=\"http://www.w3.org/2000/svg\" height=\"24px\"viewBox=\"0 0 24 24\"\n",
              "       width=\"24px\">\n",
              "    <path d=\"M0 0h24v24H0V0z\" fill=\"none\"/>\n",
              "    <path d=\"M18.56 5.44l.94 2.06.94-2.06 2.06-.94-2.06-.94-.94-2.06-.94 2.06-2.06.94zm-11 1L8.5 8.5l.94-2.06 2.06-.94-2.06-.94L8.5 2.5l-.94 2.06-2.06.94zm10 10l.94 2.06.94-2.06 2.06-.94-2.06-.94-.94-2.06-.94 2.06-2.06.94z\"/><path d=\"M17.41 7.96l-1.37-1.37c-.4-.4-.92-.59-1.43-.59-.52 0-1.04.2-1.43.59L10.3 9.45l-7.72 7.72c-.78.78-.78 2.05 0 2.83L4 21.41c.39.39.9.59 1.41.59.51 0 1.02-.2 1.41-.59l7.78-7.78 2.81-2.81c.8-.78.8-2.07 0-2.86zM5.41 20L4 18.59l7.72-7.72 1.47 1.35L5.41 20z\"/>\n",
              "  </svg>\n",
              "      </button>\n",
              "      \n",
              "  <style>\n",
              "    .colab-df-container {\n",
              "      display:flex;\n",
              "      flex-wrap:wrap;\n",
              "      gap: 12px;\n",
              "    }\n",
              "\n",
              "    .colab-df-convert {\n",
              "      background-color: #E8F0FE;\n",
              "      border: none;\n",
              "      border-radius: 50%;\n",
              "      cursor: pointer;\n",
              "      display: none;\n",
              "      fill: #1967D2;\n",
              "      height: 32px;\n",
              "      padding: 0 0 0 0;\n",
              "      width: 32px;\n",
              "    }\n",
              "\n",
              "    .colab-df-convert:hover {\n",
              "      background-color: #E2EBFA;\n",
              "      box-shadow: 0px 1px 2px rgba(60, 64, 67, 0.3), 0px 1px 3px 1px rgba(60, 64, 67, 0.15);\n",
              "      fill: #174EA6;\n",
              "    }\n",
              "\n",
              "    [theme=dark] .colab-df-convert {\n",
              "      background-color: #3B4455;\n",
              "      fill: #D2E3FC;\n",
              "    }\n",
              "\n",
              "    [theme=dark] .colab-df-convert:hover {\n",
              "      background-color: #434B5C;\n",
              "      box-shadow: 0px 1px 3px 1px rgba(0, 0, 0, 0.15);\n",
              "      filter: drop-shadow(0px 1px 2px rgba(0, 0, 0, 0.3));\n",
              "      fill: #FFFFFF;\n",
              "    }\n",
              "  </style>\n",
              "\n",
              "      <script>\n",
              "        const buttonEl =\n",
              "          document.querySelector('#df-f051cf61-c733-43f3-b516-1f261249adaf button.colab-df-convert');\n",
              "        buttonEl.style.display =\n",
              "          google.colab.kernel.accessAllowed ? 'block' : 'none';\n",
              "\n",
              "        async function convertToInteractive(key) {\n",
              "          const element = document.querySelector('#df-f051cf61-c733-43f3-b516-1f261249adaf');\n",
              "          const dataTable =\n",
              "            await google.colab.kernel.invokeFunction('convertToInteractive',\n",
              "                                                     [key], {});\n",
              "          if (!dataTable) return;\n",
              "\n",
              "          const docLinkHtml = 'Like what you see? Visit the ' +\n",
              "            '<a target=\"_blank\" href=https://colab.research.google.com/notebooks/data_table.ipynb>data table notebook</a>'\n",
              "            + ' to learn more about interactive tables.';\n",
              "          element.innerHTML = '';\n",
              "          dataTable['output_type'] = 'display_data';\n",
              "          await google.colab.output.renderOutput(dataTable, element);\n",
              "          const docLink = document.createElement('div');\n",
              "          docLink.innerHTML = docLinkHtml;\n",
              "          element.appendChild(docLink);\n",
              "        }\n",
              "      </script>\n",
              "    </div>\n",
              "  </div>\n",
              "  "
            ]
          },
          "metadata": {},
          "execution_count": 18
        }
      ],
      "source": [
        "sub_df"
      ]
    },
    {
      "cell_type": "code",
      "source": [
        "sub_df.Sentiment.value_counts()"
      ],
      "metadata": {
        "colab": {
          "base_uri": "https://localhost:8080/"
        },
        "id": "CIpewnc1-XWB",
        "outputId": "28d7b8d1-4e24-48ff-9219-e80454a8bed5"
      },
      "execution_count": 19,
      "outputs": [
        {
          "output_type": "execute_result",
          "data": {
            "text/plain": [
              "2    66292\n",
              "Name: Sentiment, dtype: int64"
            ]
          },
          "metadata": {},
          "execution_count": 19
        }
      ]
    },
    {
      "cell_type": "code",
      "source": [
        "plt=raw_df.Sentiment.value_counts(normalize='True')"
      ],
      "metadata": {
        "id": "WpnK3Ws8_To5"
      },
      "execution_count": 20,
      "outputs": []
    },
    {
      "cell_type": "code",
      "source": [
        "plt.sort_index().plot(kind='bar')"
      ],
      "metadata": {
        "colab": {
          "base_uri": "https://localhost:8080/",
          "height": 279
        },
        "id": "Yg7EmOQw_Ts2",
        "outputId": "86128ef1-5aec-4409-cc58-c28a92649139"
      },
      "execution_count": 21,
      "outputs": [
        {
          "output_type": "execute_result",
          "data": {
            "text/plain": [
              "<matplotlib.axes._subplots.AxesSubplot at 0x7eff6ac0d0a0>"
            ]
          },
          "metadata": {},
          "execution_count": 21
        },
        {
          "output_type": "display_data",
          "data": {
            "text/plain": [
              "<Figure size 432x288 with 1 Axes>"
            ],
            "image/png": "[encoded data removed]"
          },
          "metadata": {
            "needs_background": "light"
          }
        }
      ]
    },
    {
      "cell_type": "markdown",
      "source": [
        "#gaussian distribution indicated"
      ],
      "metadata": {
        "id": "Ynyov4QNSRGG"
      }
    },
    {
      "cell_type": "code",
      "source": [],
      "metadata": {
        "id": "-5skedvPSQzm"
      },
      "execution_count": 21,
      "outputs": []
    },
    {
      "cell_type": "markdown",
      "metadata": {
        "id": "yESLHuK3x65P"
      },
      "source": [
        "##**Summarize your insights and learnings from the dataset below:**\n",
        "\n",
        "* raw_df=156060 rows × 4 columns ,'PhraseId', 'SentenceId', 'Phrase', 'Sentiment'\n",
        "\n",
        "* test_df=66292 rows * 3 columns ,\"'PhraseId', 'SentenceId', 'Phrase'\"\n",
        "\n",
        "* sub_df=66292 rows * 2 columns \n",
        "'PhraseId','Sentiment'"
      ]
    },
    {
      "cell_type": "markdown",
      "metadata": {
        "id": "pYaRDixJen33"
      },
      "source": [
        "## Implement TF-IDF Technique\n",
        "\n",
        "![](https://i.imgur.com/5VbUPup.png)\n",
        "\n",
        "Outline:\n",
        "\n",
        "1. Learn the vocabulary using `TfidfVectorizer`\n",
        "3. Transform training and test data"
      ]
    },
    {
      "cell_type": "markdown",
      "metadata": {
        "id": "m3cu-meXuETm"
      },
      "source": [
        "#### Learn Vocabulary using `TfidfVectorizer `\n",
        "\n",
        "* Create custom tokenizer with stemming\n",
        "* Create a list of stop words\n",
        "* Configure and create `TfidfVectorizer `\n",
        "* Learn vocubulary from training set\n",
        "* View sample entries from vocabulary"
      ]
    },
    {
      "cell_type": "code",
      "execution_count": 22,
      "metadata": {
        "id": "u7pWYRHnzUWW"
      },
      "outputs": [],
      "source": [
        "import nltk\n"
      ]
    },
    {
      "cell_type": "code",
      "execution_count": 23,
      "metadata": {
        "id": "Ag_lyI8mzbqE"
      },
      "outputs": [],
      "source": [
        "from nltk.tokenize import word_tokenize"
      ]
    },
    {
      "cell_type": "code",
      "execution_count": 24,
      "metadata": {
        "id": "4vzkmwVG0GGE"
      },
      "outputs": [],
      "source": [
        "m0=raw_df.Phrase.values[0]"
      ]
    },
    {
      "cell_type": "code",
      "execution_count": 25,
      "metadata": {
        "colab": {
          "base_uri": "https://localhost:8080/",
          "height": 70
        },
        "id": "DxZWPPfE0FeN",
        "outputId": "6daa6513-c4db-4ebd-d6d8-71af8cf8b6d7"
      },
      "outputs": [
        {
          "output_type": "execute_result",
          "data": {
            "text/plain": [
              "'A series of escapades demonstrating the adage that what is good for the goose is also good for the gander , some of which occasionally amuses but none of which amounts to much of a story .'"
            ],
            "application/vnd.google.colaboratory.intrinsic+json": {
              "type": "string"
            }
          },
          "metadata": {},
          "execution_count": 25
        }
      ],
      "source": [
        "m0\n",
        "\n"
      ]
    },
    {
      "cell_type": "code",
      "source": [
        "\n",
        "nltk.download('punkt')\n"
      ],
      "metadata": {
        "colab": {
          "base_uri": "https://localhost:8080/"
        },
        "id": "0GmRzDWuUGFn",
        "outputId": "faeee2b7-c8f7-4cf1-be67-970ec41a9741"
      },
      "execution_count": 26,
      "outputs": [
        {
          "output_type": "stream",
          "name": "stderr",
          "text": [
            "[nltk_data] Downloading package punkt to /root/nltk_data...\n",
            "[nltk_data]   Package punkt is already up-to-date!\n"
          ]
        },
        {
          "output_type": "execute_result",
          "data": {
            "text/plain": [
              "True"
            ]
          },
          "metadata": {},
          "execution_count": 26
        }
      ]
    },
    {
      "cell_type": "code",
      "execution_count": 27,
      "metadata": {
        "id": "ffPOWbhdd7oP",
        "colab": {
          "base_uri": "https://localhost:8080/"
        },
        "outputId": "1414523f-2bdf-411d-d3e6-cb10525137a9"
      },
      "outputs": [
        {
          "output_type": "execute_result",
          "data": {
            "text/plain": [
              "['A',\n",
              " 'series',\n",
              " 'of',\n",
              " 'escapades',\n",
              " 'demonstrating',\n",
              " 'the',\n",
              " 'adage',\n",
              " 'that',\n",
              " 'what',\n",
              " 'is',\n",
              " 'good',\n",
              " 'for',\n",
              " 'the',\n",
              " 'goose',\n",
              " 'is',\n",
              " 'also',\n",
              " 'good',\n",
              " 'for',\n",
              " 'the',\n",
              " 'gander',\n",
              " ',',\n",
              " 'some',\n",
              " 'of',\n",
              " 'which',\n",
              " 'occasionally',\n",
              " 'amuses',\n",
              " 'but',\n",
              " 'none',\n",
              " 'of',\n",
              " 'which',\n",
              " 'amounts',\n",
              " 'to',\n",
              " 'much',\n",
              " 'of',\n",
              " 'a',\n",
              " 'story',\n",
              " '.']"
            ]
          },
          "metadata": {},
          "execution_count": 27
        }
      ],
      "source": [
        "word_tokenize(m0)\n"
      ]
    },
    {
      "cell_type": "code",
      "execution_count": 28,
      "metadata": {
        "id": "Tp3P0zaw0ATc"
      },
      "outputs": [],
      "source": [
        "from nltk.stem.snowball import SnowballStemmer\n",
        "stemmer=SnowballStemmer(language='english')"
      ]
    },
    {
      "cell_type": "code",
      "execution_count": 29,
      "metadata": {
        "id": "aggX4uwmeswS"
      },
      "outputs": [],
      "source": [
        "def tokenize(text):\n",
        "  return [stemmer.stem(word.lower()) for word in word_tokenize(text)]"
      ]
    },
    {
      "cell_type": "code",
      "execution_count": 30,
      "metadata": {
        "colab": {
          "base_uri": "https://localhost:8080/"
        },
        "id": "UWS0NJkk0Z2p",
        "outputId": "2cf1f66a-7bf0-44cf-f82a-08b36240732a"
      },
      "outputs": [
        {
          "output_type": "execute_result",
          "data": {
            "text/plain": [
              "['a',\n",
              " 'seri',\n",
              " 'of',\n",
              " 'escapad',\n",
              " 'demonstr',\n",
              " 'the',\n",
              " 'adag',\n",
              " 'that',\n",
              " 'what',\n",
              " 'is',\n",
              " 'good',\n",
              " 'for',\n",
              " 'the',\n",
              " 'goos',\n",
              " 'is',\n",
              " 'also',\n",
              " 'good',\n",
              " 'for',\n",
              " 'the',\n",
              " 'gander',\n",
              " ',',\n",
              " 'some',\n",
              " 'of',\n",
              " 'which',\n",
              " 'occasion',\n",
              " 'amus',\n",
              " 'but',\n",
              " 'none',\n",
              " 'of',\n",
              " 'which',\n",
              " 'amount',\n",
              " 'to',\n",
              " 'much',\n",
              " 'of',\n",
              " 'a',\n",
              " 'stori',\n",
              " '.']"
            ]
          },
          "metadata": {},
          "execution_count": 30
        }
      ],
      "source": [
        "tokenize(m0)"
      ]
    },
    {
      "cell_type": "code",
      "execution_count": 31,
      "metadata": {
        "id": "Tu_garEvesta",
        "colab": {
          "base_uri": "https://localhost:8080/"
        },
        "outputId": "d9822182-9055-41b0-b463-00a2346ff2c3"
      },
      "outputs": [
        {
          "output_type": "execute_result",
          "data": {
            "text/plain": [
              "['is', 'this', 'a', 'way', 'to', '(', 'learn', ')', 'nlp', '?']"
            ]
          },
          "metadata": {},
          "execution_count": 31
        }
      ],
      "source": [
        "tokenize(\"Is this a way to (learn) nlp?\")"
      ]
    },
    {
      "cell_type": "code",
      "source": [
        "from nltk.corpus import stopwords\n"
      ],
      "metadata": {
        "id": "TIfRLyeFV-e4"
      },
      "execution_count": 32,
      "outputs": []
    },
    {
      "cell_type": "code",
      "source": [
        "nltk.download('stopwords')"
      ],
      "metadata": {
        "colab": {
          "base_uri": "https://localhost:8080/"
        },
        "id": "eQCYAS5hWEeH",
        "outputId": "17056fc9-05c8-44e4-bf33-6c71d93a9988"
      },
      "execution_count": 33,
      "outputs": [
        {
          "output_type": "stream",
          "name": "stderr",
          "text": [
            "[nltk_data] Downloading package stopwords to /root/nltk_data...\n",
            "[nltk_data]   Package stopwords is already up-to-date!\n"
          ]
        },
        {
          "output_type": "execute_result",
          "data": {
            "text/plain": [
              "True"
            ]
          },
          "metadata": {},
          "execution_count": 33
        }
      ]
    },
    {
      "cell_type": "code",
      "source": [
        "stops = set(stopwords.words('english'))"
      ],
      "metadata": {
        "id": "I5J1O4RfWEXX"
      },
      "execution_count": 34,
      "outputs": []
    },
    {
      "cell_type": "code",
      "source": [
        "\",\".join(stops)\n",
        "                \n",
        "\n",
        "                \n",
        "                "
      ],
      "metadata": {
        "colab": {
          "base_uri": "https://localhost:8080/",
          "height": 226
        },
        "id": "IjBP_4ydWEUw",
        "outputId": "291190b7-545a-4fb5-8b3b-e4d1434cd02e"
      },
      "execution_count": 35,
      "outputs": [
        {
          "output_type": "execute_result",
          "data": {
            "text/plain": [
              "\"myself,you,of,was,be,d,as,each,haven,were,wasn't,our,on,having,should,y,are,theirs,mightn't,both,s,whom,had,nor,mightn,his,ll,isn,while,aren,that,but,doing,won,you're,should've,won't,and,don,mustn,between,down,out,isn't,once,couldn,to,now,hadn,such,then,t,their,doesn't,hasn,wouldn't,my,your,needn,him,he,didn,further,if,there,herself,above,against,over,have,it,wouldn,so,than,that'll,because,again,until,is,she's,same,she,shan't,you'll,himself,has,a,ourselves,them,off,here,who,only,any,yourselves,under,ours,themselves,an,do,shouldn't,why,those,needn't,re,did,own,the,yours,does,i,into,its,at,too,just,aren't,yourself,below,from,ain,more,what,they,through,or,hers,before,ve,we,been,very,all,most,ma,where,weren,weren't,you'd,other,mustn't,no,doesn,being,for,with,few,don't,didn't,in,shan,these,which,o,after,can,about,couldn't,wasn,itself,up,her,some,am,how,haven't,will,m,during,when,by,not,this,hadn't,hasn't,me,you've,shouldn,it's\""
            ],
            "application/vnd.google.colaboratory.intrinsic+json": {
              "type": "string"
            }
          },
          "metadata": {},
          "execution_count": 35
        }
      ]
    },
    {
      "cell_type": "code",
      "source": [
        "#CUSTOM_STOP=[these,being,been,doing,such,could,would,her,theirs,or,she's,them,should,themselves,does,the,between,yourself,ll,you're,if,you'd,for,now,but,hers,out,had,very,during,my,they,was,same,won't,both,its,because,no,you'll,d,ours,should've,by,under,yours,did,as,who,myself,all,above,haven't,having,won,few,when,here,too,ain,was,once,off,then,how,you,s,does,over,most,an,him,through,yourselves,below,be,down,can,in,is,you've,further,some,until,wasn,with,himself,has,own,only,might,there,y,the,just,do,need,me,couldn't,which,so,other,not,against,on,his,doesn't,why,where,should,after,into,would,before,up,and,he,your,she,are,at,whom,more,it's,again,has,a,am,ve,any,from,have,of,are,should,have,were,t,will,that,itself,about,to,each,what,i,must,than,m,we,ma,herself,ourselves,their,while,this,hers,out,had,very,during,my,they,was,same,both,its,because,you'll,d,ours]"
      ],
      "metadata": {
        "id": "eEB_snPMkL0f"
      },
      "execution_count": 36,
      "outputs": []
    },
    {
      "cell_type": "code",
      "source": [],
      "metadata": {
        "id": "N37RRf0gm1nB"
      },
      "execution_count": 36,
      "outputs": []
    },
    {
      "cell_type": "markdown",
      "source": [
        "Here is list of STOPWORDS\n",
        "\n",
        "\n",
        "NEED TO CUT OUT THE NEGATIVE WORDS BCOS ALL THESE ARE SHOWING SENTIMENT"
      ],
      "metadata": {
        "id": "jHn5q4NUXKUP"
      }
    },
    {
      "cell_type": "code",
      "source": [
        "SELECTED_STOPS=['i', 'me', 'my', 'myself', 'we', 'our', 'ours', 'ourselves', 'you', \"you're\", \"you've\", \"you'll\", \"you'd\", 'your', 'yours', 'yourself', 'yourselves', 'he', 'him', 'his', 'himself', 'she', \"she's\", 'her', 'hers', 'herself', 'it', \"it's\", 'its', 'itself', 'they', 'them', 'their', 'theirs', 'themselves', 'what', 'which', 'who', 'whom', 'this', 'that', \"that'll\", 'these', 'those', 'am', 'is', 'are', 'was', 'were', 'be', 'been', 'being', 'have', 'has', 'had', 'having', 'do', 'does', 'did', 'doing', 'a', 'an', 'the', 'and', 'but', 'if', 'or', 'because', 'as', 'until', 'while', 'of', 'at', 'by', 'for', 'with', 'about', 'against', 'between', 'into', 'through', 'during', 'before', 'after', 'above', 'below', 'to', 'from', 'up', 'down', 'in', 'out', 'on', 'off', 'over', 'under', 'again', 'further', 'then', 'once', 'here', 'there', 'when', 'where', 'why', 'how', 'all', 'any', 'both', 'each', 'few', 'more', 'most', 'other', 'some', 'such', 'no', 'nor', 'not', 'only', 'own', 'same', 'so', 'than', 'too', 'very', 's', 't', 'can', 'will', 'just', 'do','should', \"should've\", 'now', 'd', 'll', 'm', 'o', 're', 've', 'y','ma']"
      ],
      "metadata": {
        "id": "p0h5S1PeXDeT"
      },
      "execution_count": 37,
      "outputs": []
    },
    {
      "cell_type": "code",
      "source": [
        "def remove_stopwords(token):\n",
        "  return [word for word in token if word.lower() not in SELECTED_STOPS ]"
      ],
      "metadata": {
        "id": "6z9iu0SJWEPn"
      },
      "execution_count": 38,
      "outputs": []
    },
    {
      "cell_type": "code",
      "source": [
        "remove_stopwords(m0)"
      ],
      "metadata": {
        "colab": {
          "base_uri": "https://localhost:8080/"
        },
        "id": "vscq7VyAWEMo",
        "outputId": "7230bd9a-91f6-4ba3-b45c-fecd696c326a"
      },
      "execution_count": 39,
      "outputs": [
        {
          "output_type": "execute_result",
          "data": {
            "text/plain": [
              "[' ',\n",
              " 'e',\n",
              " 'r',\n",
              " 'e',\n",
              " ' ',\n",
              " 'f',\n",
              " ' ',\n",
              " 'e',\n",
              " 'c',\n",
              " 'p',\n",
              " 'e',\n",
              " ' ',\n",
              " 'e',\n",
              " 'n',\n",
              " 'r',\n",
              " 'n',\n",
              " 'g',\n",
              " ' ',\n",
              " 'h',\n",
              " 'e',\n",
              " ' ',\n",
              " 'g',\n",
              " 'e',\n",
              " ' ',\n",
              " 'h',\n",
              " ' ',\n",
              " 'w',\n",
              " 'h',\n",
              " ' ',\n",
              " ' ',\n",
              " 'g',\n",
              " ' ',\n",
              " 'f',\n",
              " 'r',\n",
              " ' ',\n",
              " 'h',\n",
              " 'e',\n",
              " ' ',\n",
              " 'g',\n",
              " 'e',\n",
              " ' ',\n",
              " ' ',\n",
              " 'l',\n",
              " ' ',\n",
              " 'g',\n",
              " ' ',\n",
              " 'f',\n",
              " 'r',\n",
              " ' ',\n",
              " 'h',\n",
              " 'e',\n",
              " ' ',\n",
              " 'g',\n",
              " 'n',\n",
              " 'e',\n",
              " 'r',\n",
              " ' ',\n",
              " ',',\n",
              " ' ',\n",
              " 'e',\n",
              " ' ',\n",
              " 'f',\n",
              " ' ',\n",
              " 'w',\n",
              " 'h',\n",
              " 'c',\n",
              " 'h',\n",
              " ' ',\n",
              " 'c',\n",
              " 'c',\n",
              " 'n',\n",
              " 'l',\n",
              " 'l',\n",
              " ' ',\n",
              " 'u',\n",
              " 'e',\n",
              " ' ',\n",
              " 'b',\n",
              " 'u',\n",
              " ' ',\n",
              " 'n',\n",
              " 'n',\n",
              " 'e',\n",
              " ' ',\n",
              " 'f',\n",
              " ' ',\n",
              " 'w',\n",
              " 'h',\n",
              " 'c',\n",
              " 'h',\n",
              " ' ',\n",
              " 'u',\n",
              " 'n',\n",
              " ' ',\n",
              " ' ',\n",
              " 'u',\n",
              " 'c',\n",
              " 'h',\n",
              " ' ',\n",
              " 'f',\n",
              " ' ',\n",
              " ' ',\n",
              " 'r',\n",
              " ' ',\n",
              " '.']"
            ]
          },
          "metadata": {},
          "execution_count": 39
        }
      ]
    },
    {
      "cell_type": "code",
      "execution_count": 40,
      "metadata": {
        "id": "Xl-NWRL4esq8"
      },
      "outputs": [],
      "source": [
        "from sklearn.feature_extraction.text import  TfidfVectorizer"
      ]
    },
    {
      "cell_type": "code",
      "execution_count": 41,
      "metadata": {
        "id": "7re6Uh_l03vY"
      },
      "outputs": [],
      "source": [
        "vectorizer=TfidfVectorizer(tokenizer=tokenize,stop_words=SELECTED_STOPS,ngram_range=(1,2),max_features=5000)"
      ]
    },
    {
      "cell_type": "code",
      "source": [
        "vectorizer.fit(raw_df.Phrase)  #to learn the vocabulary"
      ],
      "metadata": {
        "colab": {
          "base_uri": "https://localhost:8080/"
        },
        "id": "WD4xv7x8oCaM",
        "outputId": "35a90256-b9f2-40e2-aa0e-015d0e128ce1"
      },
      "execution_count": 42,
      "outputs": [
        {
          "output_type": "stream",
          "name": "stderr",
          "text": [
            "/usr/local/lib/python3.8/dist-packages/sklearn/feature_extraction/text.py:516: UserWarning: The parameter 'token_pattern' will not be used since 'tokenizer' is not None'\n",
            "  warnings.warn(\n",
            "/usr/local/lib/python3.8/dist-packages/sklearn/feature_extraction/text.py:396: UserWarning: Your stop_words may be inconsistent with your preprocessing. Tokenizing the stop words generated tokens [\"'d\", \"'s\", 'abov', 'ani', 'becaus', 'befor', 'doe', 'dure', 'onc', 'onli', 'ourselv', 'themselv', 'veri', 'whi', 'yourselv'] not in stop_words.\n",
            "  warnings.warn(\n"
          ]
        },
        {
          "output_type": "execute_result",
          "data": {
            "text/plain": [
              "TfidfVectorizer(max_features=5000, ngram_range=(1, 2),\n",
              "                stop_words=['i', 'me', 'my', 'myself', 'we', 'our', 'ours',\n",
              "                            'ourselves', 'you', \"you're\", \"you've\", \"you'll\",\n",
              "                            \"you'd\", 'your', 'yours', 'yourself', 'yourselves',\n",
              "                            'he', 'him', 'his', 'himself', 'she', \"she's\",\n",
              "                            'her', 'hers', 'herself', 'it', \"it's\", 'its',\n",
              "                            'itself', ...],\n",
              "                tokenizer=<function tokenize at 0x7eff5ecff670>)"
            ]
          },
          "metadata": {},
          "execution_count": 42
        }
      ]
    },
    {
      "cell_type": "code",
      "source": [
        "len(vectorizer.vocabulary_)"
      ],
      "metadata": {
        "colab": {
          "base_uri": "https://localhost:8080/"
        },
        "id": "yi18N6IToqVb",
        "outputId": "829fb6fd-2a3c-43ea-add0-fcb163d4bdde"
      },
      "execution_count": 43,
      "outputs": [
        {
          "output_type": "execute_result",
          "data": {
            "text/plain": [
              "5000"
            ]
          },
          "metadata": {},
          "execution_count": 43
        }
      ]
    },
    {
      "cell_type": "code",
      "source": [
        "vectorizer.get_feature_names_out()[:500]\n",
        "\n"
      ],
      "metadata": {
        "colab": {
          "base_uri": "https://localhost:8080/"
        },
        "id": "X3fAI4iCowp1",
        "outputId": "cafc69c4-68ba-41ad-bce0-fe28cf46b22c"
      },
      "execution_count": 44,
      "outputs": [
        {
          "output_type": "execute_result",
          "data": {
            "text/plain": [
              "array(['!', '! ``', '$', '&', \"'\", \"' -rrb-\", \"' .\", \"' `\", \"''\", \"'d\",\n",
              "       \"'d expect\", \"'m\", \"'m sure\", \"'s\", \"'s '\", \"'s ,\", \"'s -\",\n",
              "       \"'s -rrb-\", \"'s `\", \"'s ``\", \"'s also\", \"'s bad\", \"'s best\",\n",
              "       \"'s better\", \"'s big\", \"'s book\", \"'s brilliant\", \"'s career\",\n",
              "       \"'s charact\", \"'s classic\", \"'s clear\", \"'s cut\", \"'s dark\",\n",
              "       \"'s definit\", \"'s difficult\", \"'s direct\", \"'s documentari\",\n",
              "       \"'s done\", \"'s easi\", \"'s end\", \"'s enough\", \"'s entertain\",\n",
              "       \"'s face\", \"'s far\", \"'s film\", \"'s final\", \"'s fun\", \"'s funni\",\n",
              "       \"'s go\", \"'s good\", \"'s got\", \"'s great\", \"'s happen\", \"'s hard\",\n",
              "       \"'s heart\", \"'s imposs\", \"'s interest\", \"'s latest\", \"'s life\",\n",
              "       \"'s like\", \"'s littl\", \"'s lot\", \"'s love\", \"'s make\", \"'s moral\",\n",
              "       \"'s movi\", \"'s much\", \"'s neither\", \"'s never\", \"'s new\",\n",
              "       \"'s noth\", \"'s novel\", \"'s one\", \"'s onli\", \"'s perform\",\n",
              "       \"'s plot\", \"'s point\", \"'s pretti\", \"'s previous\", \"'s quit\",\n",
              "       \"'s rare\", \"'s real\", \"'s realli\", \"'s script\", \"'s self-consci\",\n",
              "       \"'s short\", \"'s someth\", \"'s still\", \"'s stori\", \"'s success\",\n",
              "       \"'s surpris\", \"'s sweet\", \"'s time\", \"'s tri\", \"'s true\",\n",
              "       \"'s ultim\", \"'s uniqu\", \"'s veri\", \"'s wit\", \"'s wonder\",\n",
              "       \"'s work\", \"'s worth\", '*', '* \\\\', ',', \", '\", \", 'd\", \", 'm\",\n",
              "       \", 's\", ', ,', ', -lrb-', ', .', ', `', ', ``', ', almost',\n",
              "       ', also', ', although', ', alway', ', amus', ', ani', ', anyth',\n",
              "       ', bad', ', bare', ', beauti', ', becaus', ', becom', ', better',\n",
              "       ', bring', ', ca', ', captur', ', cast', ', certain', ', charact',\n",
              "       ', charm', ', clever', ', come', ', comedi', ', comfort',\n",
              "       ', comic', ', complet', ', confus', ', could', ', courag',\n",
              "       ', cours', ', dark', ', deepli', ', despit', ', direct',\n",
              "       ', director', ', doe', ', drama', ', dramat', ', dri', ', dull',\n",
              "       ', dumb', ', eager', ', either', ', eloqu', ', emot', ', end',\n",
              "       ', endear', ', energet', ', enjoy', ', enough', ', entertain',\n",
              "       ', especi', ', etc', ', even', ', ever', ', everi', ', fact',\n",
              "       ', fals', ', famili', ', far', ', fear', ', featur', ', feel',\n",
              "       ', fight', ', film', ', final', ', find', ', first', ', flat',\n",
              "       ', flaw', ', focus', ', full', ', fun', ', funni', ', fuzzi',\n",
              "       ', genuin', ', get', ', give', ', go', ', good', ', great',\n",
              "       ', hand', ', histori', ', honest', ', hope', ', howev', ', human',\n",
              "       ', humor', ', imagin', ', implaus', ', includ', ', insight',\n",
              "       ', inspir', ', intellig', ', interest', ', intrigu', ', invent',\n",
              "       ', keep', ', lack', ', laugh', ', least', ', leav', ', let',\n",
              "       ', life', ', life-affirm', ', like', ', littl', ', live', ', long',\n",
              "       ', look', ', lot', ', love', ', made', ', make', ', man',\n",
              "       ', manag', ', mani', ', manipul', ', matter', ', may', ', mayb',\n",
              "       ', mean', ', meander', ', memori', ', michael', ', might',\n",
              "       ', moral', ', move', ', movi', ', mr.', ', ms.', ', much',\n",
              "       ', music', \", n't\", ', near', ', neither', ', never', ', noth',\n",
              "       ', obvious', ', occasion', ', odd', ', offbeat', ', offer',\n",
              "       ', often', ', one', ', onli', ', origin', ', outrag', ', pain',\n",
              "       ', part', ', particular', ', perform', ', perhap', ', person',\n",
              "       ', play', ', plot', ', polit', ', poor', ', power', ', preachi',\n",
              "       ', probabl', ', provid', ', provoc', ', quiet', ', quit',\n",
              "       ', rather', ', real', ', realli', ', remain', ', romanc', ', sad',\n",
              "       ', save', ', say', ', score', ', see', ', seem', ', self-satisfi',\n",
              "       ', sens', ', sensit', ', sexual', ', slow', ', small', ', smart',\n",
              "       ', solid', ', someth', ', sometim', ', sort', ', still', ', stock',\n",
              "       ', stori', ', strike', ', subject', ', subt', ', suppos',\n",
              "       ', surpris', ', sweet', ', take', ', tear', ', think',\n",
              "       ', thorough', ', though', ', thought', ', thrill', ', time',\n",
              "       ', touch', ', tragedi', ', turn', ', two', ', ultim', ', veri',\n",
              "       ', violent', ', visual', ', warm', ', watch', ', way', ', well',\n",
              "       ', whi', ', whose', ', without', ', wonder', ', work', ', wors',\n",
              "       ', would', ', yes', ', yet', '-', '- ,', '--', \"-- 's\", '-- ,',\n",
              "       '-- --', '-- especi', '-- even', '-- far', '-- like', '-- onli',\n",
              "       '-- sometim', '-lrb-', '-lrb- -rrb-', '-lrb- like', '-lrb- well',\n",
              "       '-rrb-', '-rrb- ,', '-rrb- .', '.', \". '\", '. ``', '. well', '...',\n",
              "       '1', '10', '10 minut', '100', '101', '11', '12-year-old', '13',\n",
              "       '15', '15 minut', '1970s', '1984', '1999', '19th-centuri', '2',\n",
              "       '20', '20 minut', '20 year', '2002', '20th', '21st',\n",
              "       '21st centuri', '3', '30', '3000', '3d', '40', '5', '50s', '51',\n",
              "       '60s', '70s', '8', '80', '80 minut', '9', '90', '90 minut',\n",
              "       '90-minut', ':', ': movi', ';', '?', \"? '\", '? ``', '\\\\', '\\\\ *',\n",
              "       '\\\\/', '`', '` analyz', '` comedi', '` laugh', '``', '`` ,',\n",
              "       '`` -rrb-', '`` ``', '`` big', '`` last', 'a-list', 'abandon',\n",
              "       'abil', 'abl', 'abov', 'absolut', 'absorb', 'abstract', 'absurd',\n",
              "       'abund', 'abus', 'academi', 'academi award', 'accent', 'accept',\n",
              "       'access', 'acclaim', 'accompani', 'accomplish', 'account',\n",
              "       'accumul', 'accur', 'ach', 'achiev', 'acknowledg', 'acquir',\n",
              "       'across', 'act', 'act ,', 'act --', 'act .', 'act like', 'action',\n",
              "       'action ,', 'action film', 'action flick', 'action hero',\n",
              "       'action movi', 'action sequenc', 'action-pack', 'activ', 'actor',\n",
              "       \"actor '\", 'actor ,', 'actress', 'actress ,', 'actual',\n",
              "       'actual funni', 'ad', 'adam', 'adam sandler', 'adapt', 'add',\n",
              "       'addict', 'addit', 'address', 'adequ', 'adher', 'admir', 'admit',\n",
              "       'adolesc', 'ador', 'adrenalin', 'adult', 'advanc', 'advantag',\n",
              "       'adventur', 'adventur ,', 'advic', 'aesthet', 'affair', 'affect',\n",
              "       'affirm', 'afraid', 'african', 'african-american', 'after-school',\n",
              "       'after-school special', 'afternoon'], dtype=object)"
            ]
          },
          "metadata": {},
          "execution_count": 44
        }
      ]
    },
    {
      "cell_type": "markdown",
      "source": [
        "Notice bigrams are also present"
      ],
      "metadata": {
        "id": "fwAEkVpJpjHD"
      }
    },
    {
      "cell_type": "markdown",
      "metadata": {
        "id": "N83nLs4juO67"
      },
      "source": [
        "### Transform Training & Test Data\n",
        "\n",
        "* Transform phrases from training set\n",
        "* Transform phrases from test set\n",
        "* Look at some example values"
      ]
    },
    {
      "cell_type": "code",
      "execution_count": 45,
      "metadata": {
        "id": "B6WXWiQzuOcX",
        "colab": {
          "base_uri": "https://localhost:8080/"
        },
        "outputId": "7b6664eb-891a-46f0-9587-c7f8595195a6"
      },
      "outputs": [
        {
          "output_type": "stream",
          "name": "stdout",
          "text": [
            "CPU times: user 32.1 s, sys: 114 ms, total: 32.3 s\n",
            "Wall time: 34.3 s\n"
          ]
        }
      ],
      "source": [
        "%%time\n",
        "inputs=vectorizer.transform(raw_df.Phrase)"
      ]
    },
    {
      "cell_type": "code",
      "execution_count": 46,
      "metadata": {
        "colab": {
          "base_uri": "https://localhost:8080/"
        },
        "id": "0BDzHuBbuPSz",
        "outputId": "45c73dfb-53c9-497f-da39-3eb166eb8188"
      },
      "outputs": [
        {
          "output_type": "execute_result",
          "data": {
            "text/plain": [
              "(156060, 5000)"
            ]
          },
          "metadata": {},
          "execution_count": 46
        }
      ],
      "source": [
        "inputs.shape"
      ]
    },
    {
      "cell_type": "code",
      "execution_count": 47,
      "metadata": {
        "colab": {
          "base_uri": "https://localhost:8080/"
        },
        "id": "sEnfZpS83eUr",
        "outputId": "12e65e61-a4da-468f-e550-fdd9ebd2578f"
      },
      "outputs": [
        {
          "output_type": "execute_result",
          "data": {
            "text/plain": [
              "array([0., 0., 0., ..., 0., 0., 0.])"
            ]
          },
          "metadata": {},
          "execution_count": 47
        }
      ],
      "source": [
        "inputs.toarray()[0]\n",
        "\n"
      ]
    },
    {
      "cell_type": "code",
      "execution_count": 48,
      "metadata": {
        "id": "QLngc6g5yspe"
      },
      "outputs": [],
      "source": [
        "test_inputs=vectorizer.transform(test_df.Phrase)\n",
        "\n"
      ]
    },
    {
      "cell_type": "code",
      "execution_count": 49,
      "metadata": {
        "colab": {
          "base_uri": "https://localhost:8080/"
        },
        "id": "z9JRRv_Q4QNf",
        "outputId": "8dcef623-e030-4763-80a6-da8c8905bf55"
      },
      "outputs": [
        {
          "output_type": "execute_result",
          "data": {
            "text/plain": [
              "(66292, 5000)"
            ]
          },
          "metadata": {},
          "execution_count": 49
        }
      ],
      "source": [
        "test_inputs.shape"
      ]
    },
    {
      "cell_type": "code",
      "source": [],
      "metadata": {
        "id": "YMAIvA0Stnqx"
      },
      "execution_count": 49,
      "outputs": []
    },
    {
      "cell_type": "code",
      "source": [],
      "metadata": {
        "id": "RweomwzVtoHR"
      },
      "execution_count": 49,
      "outputs": []
    },
    {
      "cell_type": "markdown",
      "metadata": {
        "id": "TwLM4r3EetEK"
      },
      "source": [
        "## Train Baseline Model & Submit to Kaggle\n",
        "\n",
        "1. Split training and validation sets\n",
        "2. Train logistic regression model\n",
        "3. Study predictions on sample phrases\n",
        "4. Make predictions and submit to Kaggle\n",
        "\n",
        "\n"
      ]
    },
    {
      "cell_type": "markdown",
      "metadata": {
        "id": "NAZkydfs4wrX"
      },
      "source": [
        "### Split Training and Validation Sets\n",
        "\n",
        "Tip: Don't use a random sample for validation set (why?)"
      ]
    },
    {
      "cell_type": "code",
      "source": [
        "train_Size=110_000\n"
      ],
      "metadata": {
        "id": "gdTr4qQlug4T"
      },
      "execution_count": 50,
      "outputs": []
    },
    {
      "cell_type": "code",
      "source": [
        "train_inputs=inputs[:train_Size]\n",
        "train_targets=raw_df.Sentiment[:train_Size]"
      ],
      "metadata": {
        "id": "9GN5t055uloz"
      },
      "execution_count": 51,
      "outputs": []
    },
    {
      "cell_type": "code",
      "source": [
        "train_inputs.shape,train_targets.shape\n"
      ],
      "metadata": {
        "colab": {
          "base_uri": "https://localhost:8080/"
        },
        "id": "UGu5JIZXu1nT",
        "outputId": "3f7b5ccb-a024-4d34-cf5c-d1bafa80b54f"
      },
      "execution_count": 52,
      "outputs": [
        {
          "output_type": "execute_result",
          "data": {
            "text/plain": [
              "((110000, 5000), (110000,))"
            ]
          },
          "metadata": {},
          "execution_count": 52
        }
      ]
    },
    {
      "cell_type": "markdown",
      "source": [],
      "metadata": {
        "id": "ZHGZ7ygbugaD"
      }
    },
    {
      "cell_type": "code",
      "execution_count": 53,
      "metadata": {
        "id": "FnALsBHr4aQt"
      },
      "outputs": [],
      "source": [
        "val_in=inputs[train_Size:]\n",
        "val_targets=raw_df.Sentiment[train_Size:]"
      ]
    },
    {
      "cell_type": "code",
      "execution_count": 54,
      "metadata": {
        "id": "EF8dHyrF4S3R",
        "colab": {
          "base_uri": "https://localhost:8080/"
        },
        "outputId": "8a7e37c3-068c-4fb7-f3ec-f3d791f937cf"
      },
      "outputs": [
        {
          "output_type": "execute_result",
          "data": {
            "text/plain": [
              "(46060, 5000)"
            ]
          },
          "metadata": {},
          "execution_count": 54
        }
      ],
      "source": [
        "val_in.shape"
      ]
    },
    {
      "cell_type": "code",
      "execution_count": 55,
      "metadata": {
        "id": "JXg0N5Tset2n",
        "colab": {
          "base_uri": "https://localhost:8080/"
        },
        "outputId": "140e54e9-6aca-4b4b-9bfc-be7ea9a4916f"
      },
      "outputs": [
        {
          "output_type": "execute_result",
          "data": {
            "text/plain": [
              "(46060,)"
            ]
          },
          "metadata": {},
          "execution_count": 55
        }
      ],
      "source": [
        "val_targets.shape"
      ]
    },
    {
      "cell_type": "markdown",
      "metadata": {
        "id": "DHoTrGTM5Bo9"
      },
      "source": [
        "### Train Logistic Regression Model\n",
        "\n"
      ]
    },
    {
      "cell_type": "code",
      "source": [
        "from sklearn.linear_model import LogisticRegression"
      ],
      "metadata": {
        "id": "wAaGMC2PvRre"
      },
      "execution_count": 56,
      "outputs": []
    },
    {
      "cell_type": "code",
      "source": [
        "model=LogisticRegression(solver='sag',random_state=42)"
      ],
      "metadata": {
        "id": "1-Ey7sfuvRlN"
      },
      "execution_count": 57,
      "outputs": []
    },
    {
      "cell_type": "code",
      "source": [
        "model.fit(train_inputs,train_targets)"
      ],
      "metadata": {
        "colab": {
          "base_uri": "https://localhost:8080/"
        },
        "id": "wJg_TxqqvRiP",
        "outputId": "0740b056-d258-4942-82bb-ba7ca35283f0"
      },
      "execution_count": 58,
      "outputs": [
        {
          "output_type": "execute_result",
          "data": {
            "text/plain": [
              "LogisticRegression(random_state=42, solver='sag')"
            ]
          },
          "metadata": {},
          "execution_count": 58
        }
      ]
    },
    {
      "cell_type": "code",
      "source": [
        "train_preds=model.predict(train_inputs)"
      ],
      "metadata": {
        "id": "LDjB0xUzvRfS"
      },
      "execution_count": 59,
      "outputs": []
    },
    {
      "cell_type": "code",
      "source": [
        "train_preds"
      ],
      "metadata": {
        "colab": {
          "base_uri": "https://localhost:8080/"
        },
        "id": "D4QXSv3swEKj",
        "outputId": "e4eb25e9-40ba-452f-8e9b-71912811c9b3"
      },
      "execution_count": 60,
      "outputs": [
        {
          "output_type": "execute_result",
          "data": {
            "text/plain": [
              "array([3, 2, 2, ..., 0, 0, 2])"
            ]
          },
          "metadata": {},
          "execution_count": 60
        }
      ]
    },
    {
      "cell_type": "code",
      "source": [
        "train_targets"
      ],
      "metadata": {
        "colab": {
          "base_uri": "https://localhost:8080/"
        },
        "id": "qNHoMcf7wMu6",
        "outputId": "360c0055-b8db-484d-d3ea-6f74a0fd4d52"
      },
      "execution_count": 61,
      "outputs": [
        {
          "output_type": "execute_result",
          "data": {
            "text/plain": [
              "0         1\n",
              "1         2\n",
              "2         2\n",
              "3         2\n",
              "4         2\n",
              "         ..\n",
              "109995    1\n",
              "109996    0\n",
              "109997    1\n",
              "109998    0\n",
              "109999    2\n",
              "Name: Sentiment, Length: 110000, dtype: int64"
            ]
          },
          "metadata": {},
          "execution_count": 61
        }
      ]
    },
    {
      "cell_type": "code",
      "source": [
        "from sklearn.metrics import accuracy_score"
      ],
      "metadata": {
        "id": "_9aQ-IovwV7X"
      },
      "execution_count": 62,
      "outputs": []
    },
    {
      "cell_type": "code",
      "source": [
        "accuracy_score(train_targets,train_preds)"
      ],
      "metadata": {
        "colab": {
          "base_uri": "https://localhost:8080/"
        },
        "id": "00R1Z6Y8wbU0",
        "outputId": "f47408ba-c11a-4c40-c86e-5d239c166695"
      },
      "execution_count": 63,
      "outputs": [
        {
          "output_type": "execute_result",
          "data": {
            "text/plain": [
              "0.6671181818181818"
            ]
          },
          "metadata": {},
          "execution_count": 63
        }
      ]
    },
    {
      "cell_type": "code",
      "source": [
        "val_preds=model.predict(val_in)"
      ],
      "metadata": {
        "id": "kY2yZWz7wlSQ"
      },
      "execution_count": 64,
      "outputs": []
    },
    {
      "cell_type": "code",
      "source": [
        "accuracy_score(val_preds,val_targets)"
      ],
      "metadata": {
        "colab": {
          "base_uri": "https://localhost:8080/"
        },
        "id": "ztW_lNyUwlOX",
        "outputId": "18fa682b-3be6-4af6-f148-3371547213d0"
      },
      "execution_count": 65,
      "outputs": [
        {
          "output_type": "execute_result",
          "data": {
            "text/plain": [
              "0.5811115935735996"
            ]
          },
          "metadata": {},
          "execution_count": 65
        }
      ]
    },
    {
      "cell_type": "markdown",
      "metadata": {
        "id": "RS2HgpkL_J0G"
      },
      "source": [
        "### Study Predictions on Sample Inputs"
      ]
    },
    {
      "cell_type": "code",
      "source": [
        "small_df=raw_df.sample(40)"
      ],
      "metadata": {
        "id": "qbncZ8d4wPRU"
      },
      "execution_count": 66,
      "outputs": []
    },
    {
      "cell_type": "code",
      "source": [
        "small_inputs=vectorizer.transform(small_df.Phrase)"
      ],
      "metadata": {
        "id": "bWE77pslwK5U"
      },
      "execution_count": 67,
      "outputs": []
    },
    {
      "cell_type": "code",
      "execution_count": 68,
      "metadata": {
        "id": "Kvb-G3EU-3sD"
      },
      "outputs": [],
      "source": [
        "small_preds=model.predict(small_inputs)"
      ]
    },
    {
      "cell_type": "markdown",
      "source": [
        "0 - negative\n",
        "1 - somewhat negative\n",
        "2 - neutral\n",
        "3 - somewhat positive\n",
        "4 - positive\n",
        "\n"
      ],
      "metadata": {
        "id": "ve_8wSsFyGBd"
      }
    },
    {
      "cell_type": "code",
      "execution_count": 69,
      "metadata": {
        "colab": {
          "base_uri": "https://localhost:8080/"
        },
        "id": "96pSFU6Q-3m_",
        "outputId": "4b2b5e78-1f2b-475d-d28d-1bf51a1e9d50"
      },
      "outputs": [
        {
          "output_type": "execute_result",
          "data": {
            "text/plain": [
              "array([2, 2, 2, 1, 0, 4, 2, 2, 2, 2, 2, 2, 2, 3, 3, 2, 2, 2, 2, 2, 1, 2,\n",
              "       3, 2, 2, 4, 2, 2, 2, 2, 2, 2, 2, 2, 2, 1, 2, 2, 3, 2])"
            ]
          },
          "metadata": {},
          "execution_count": 69
        }
      ],
      "source": [
        "small_preds"
      ]
    },
    {
      "cell_type": "code",
      "execution_count": 70,
      "metadata": {
        "id": "FRlyVDpu_ARh",
        "colab": {
          "base_uri": "https://localhost:8080/",
          "height": 1000
        },
        "outputId": "2755ff90-c241-4bfa-d884-fe0d50ea6af2"
      },
      "outputs": [
        {
          "output_type": "execute_result",
          "data": {
            "text/plain": [
              "        PhraseId  SentenceId  \\\n",
              "105834    105835        5585   \n",
              "2149        2150          82   \n",
              "82907      82908        4280   \n",
              "106497    106498        5624   \n",
              "94106      94107        4910   \n",
              "64974      64975        3288   \n",
              "110920    110921        5877   \n",
              "57935      57936        2920   \n",
              "3478        3479         129   \n",
              "56735      56736        2851   \n",
              "114424    114425        6086   \n",
              "58513      58514        2948   \n",
              "150167    150168        8180   \n",
              "118424    118425        6327   \n",
              "26277      26278        1203   \n",
              "37519      37520        1783   \n",
              "21778      21779         974   \n",
              "135044    135045        7290   \n",
              "121868    121869        6530   \n",
              "41861      41862        2015   \n",
              "37720      37721        1795   \n",
              "145185    145186        7889   \n",
              "97510      97511        5099   \n",
              "19398      19399         851   \n",
              "141744    141745        7690   \n",
              "96316      96317        5030   \n",
              "102350    102351        5386   \n",
              "149707    149708        8150   \n",
              "67070      67071        3404   \n",
              "114104    114105        6066   \n",
              "75032      75033        3847   \n",
              "73481      73482        3755   \n",
              "90481      90482        4710   \n",
              "14515      14516         625   \n",
              "81232      81233        4187   \n",
              "60425      60426        3052   \n",
              "73198      73199        3738   \n",
              "47955      47956        2339   \n",
              "7122        7123         289   \n",
              "73025      73026        3729   \n",
              "\n",
              "                                                   Phrase  Sentiment  \n",
              "105834                                        stringently          2  \n",
              "2149                                        Phillip Noyce          2  \n",
              "82907   the performances by Harris , Phifer and Cam ` ...          3  \n",
              "106497  The abiding impression , despite the mild hall...          1  \n",
              "94106         's dull , spiritless , silly and monotonous          0  \n",
              "64974                 the best ensemble casts of the year          4  \n",
              "110920                                          Caucasian          2  \n",
              "57935   is just the sort for those moviegoers who comp...          2  \n",
              "3478                                              expense          2  \n",
              "56735                         pat , fairy-tale conclusion          3  \n",
              "114424                                    'd think by now          2  \n",
              "58513                                        a dentist 's          2  \n",
              "150167                        you 're a fan of the series          3  \n",
              "118424  The story is smart and entirely charming in in...          3  \n",
              "26277   a pretty convincing performance as a prissy te...          3  \n",
              "37519           been sacrificed for the sake of spectacle          0  \n",
              "21778   It makes sense that he went back to school to ...          2  \n",
              "135044                                   Call to Jeanette          2  \n",
              "121868                                        muddy sound          1  \n",
              "41861                                Chaplin and Kidman ,          2  \n",
              "37720   The actors try hard but come off too amateuris...          0  \n",
              "145185                                   first Bond movie          2  \n",
              "97510                               great combination act          3  \n",
              "19398                                               tinny          2  \n",
              "141744  an underplayed melodrama about family dynamics...          2  \n",
              "96316                  , the film is extremely thorough .          3  \n",
              "102350                                            tremble          2  \n",
              "149707  A thoughtful movie , a movie that is concerned...          2  \n",
              "67070                                  part romance novel          2  \n",
              "114104  Fails in making this character understandable ...          1  \n",
              "75032                                        adult movies          1  \n",
              "73481                                      better vehicle          3  \n",
              "90481   Though Frodo 's quest remains unfulfilled , a ...          2  \n",
              "14515                                                lint          2  \n",
              "81232                      provides an invaluable service          1  \n",
              "60425   The mystery of Enigma is how a rich historical...          1  \n",
              "73198        the unsettled tenor of that post 9-11 period          2  \n",
              "47955                   get past the taboo subject matter          2  \n",
              "7122    Robinson 's web of suspense matches the page-t...          4  \n",
              "73025                                   screen adaptation          2  "
            ],
            "text/html": [
              "\n",
              "  <div id=\"df-972b0913-c7b9-4767-a7a5-621426f8d464\">\n",
              "    <div class=\"colab-df-container\">\n",
              "      <div>\n",
              "<style scoped>\n",
              "    .dataframe tbody tr th:only-of-type {\n",
              "        vertical-align: middle;\n",
              "    }\n",
              "\n",
              "    .dataframe tbody tr th {\n",
              "        vertical-align: top;\n",
              "    }\n",
              "\n",
              "    .dataframe thead th {\n",
              "        text-align: right;\n",
              "    }\n",
              "</style>\n",
              "<table border=\"1\" class=\"dataframe\">\n",
              "  <thead>\n",
              "    <tr style=\"text-align: right;\">\n",
              "      <th></th>\n",
              "      <th>PhraseId</th>\n",
              "      <th>SentenceId</th>\n",
              "      <th>Phrase</th>\n",
              "      <th>Sentiment</th>\n",
              "    </tr>\n",
              "  </thead>\n",
              "  <tbody>\n",
              "    <tr>\n",
              "      <th>105834</th>\n",
              "      <td>105835</td>\n",
              "      <td>5585</td>\n",
              "      <td>stringently</td>\n",
              "      <td>2</td>\n",
              "    </tr>\n",
              "    <tr>\n",
              "      <th>2149</th>\n",
              "      <td>2150</td>\n",
              "      <td>82</td>\n",
              "      <td>Phillip Noyce</td>\n",
              "      <td>2</td>\n",
              "    </tr>\n",
              "    <tr>\n",
              "      <th>82907</th>\n",
              "      <td>82908</td>\n",
              "      <td>4280</td>\n",
              "      <td>the performances by Harris , Phifer and Cam ` ...</td>\n",
              "      <td>3</td>\n",
              "    </tr>\n",
              "    <tr>\n",
              "      <th>106497</th>\n",
              "      <td>106498</td>\n",
              "      <td>5624</td>\n",
              "      <td>The abiding impression , despite the mild hall...</td>\n",
              "      <td>1</td>\n",
              "    </tr>\n",
              "    <tr>\n",
              "      <th>94106</th>\n",
              "      <td>94107</td>\n",
              "      <td>4910</td>\n",
              "      <td>'s dull , spiritless , silly and monotonous</td>\n",
              "      <td>0</td>\n",
              "    </tr>\n",
              "    <tr>\n",
              "      <th>64974</th>\n",
              "      <td>64975</td>\n",
              "      <td>3288</td>\n",
              "      <td>the best ensemble casts of the year</td>\n",
              "      <td>4</td>\n",
              "    </tr>\n",
              "    <tr>\n",
              "      <th>110920</th>\n",
              "      <td>110921</td>\n",
              "      <td>5877</td>\n",
              "      <td>Caucasian</td>\n",
              "      <td>2</td>\n",
              "    </tr>\n",
              "    <tr>\n",
              "      <th>57935</th>\n",
              "      <td>57936</td>\n",
              "      <td>2920</td>\n",
              "      <td>is just the sort for those moviegoers who comp...</td>\n",
              "      <td>2</td>\n",
              "    </tr>\n",
              "    <tr>\n",
              "      <th>3478</th>\n",
              "      <td>3479</td>\n",
              "      <td>129</td>\n",
              "      <td>expense</td>\n",
              "      <td>2</td>\n",
              "    </tr>\n",
              "    <tr>\n",
              "      <th>56735</th>\n",
              "      <td>56736</td>\n",
              "      <td>2851</td>\n",
              "      <td>pat , fairy-tale conclusion</td>\n",
              "      <td>3</td>\n",
              "    </tr>\n",
              "    <tr>\n",
              "      <th>114424</th>\n",
              "      <td>114425</td>\n",
              "      <td>6086</td>\n",
              "      <td>'d think by now</td>\n",
              "      <td>2</td>\n",
              "    </tr>\n",
              "    <tr>\n",
              "      <th>58513</th>\n",
              "      <td>58514</td>\n",
              "      <td>2948</td>\n",
              "      <td>a dentist 's</td>\n",
              "      <td>2</td>\n",
              "    </tr>\n",
              "    <tr>\n",
              "      <th>150167</th>\n",
              "      <td>150168</td>\n",
              "      <td>8180</td>\n",
              "      <td>you 're a fan of the series</td>\n",
              "      <td>3</td>\n",
              "    </tr>\n",
              "    <tr>\n",
              "      <th>118424</th>\n",
              "      <td>118425</td>\n",
              "      <td>6327</td>\n",
              "      <td>The story is smart and entirely charming in in...</td>\n",
              "      <td>3</td>\n",
              "    </tr>\n",
              "    <tr>\n",
              "      <th>26277</th>\n",
              "      <td>26278</td>\n",
              "      <td>1203</td>\n",
              "      <td>a pretty convincing performance as a prissy te...</td>\n",
              "      <td>3</td>\n",
              "    </tr>\n",
              "    <tr>\n",
              "      <th>37519</th>\n",
              "      <td>37520</td>\n",
              "      <td>1783</td>\n",
              "      <td>been sacrificed for the sake of spectacle</td>\n",
              "      <td>0</td>\n",
              "    </tr>\n",
              "    <tr>\n",
              "      <th>21778</th>\n",
              "      <td>21779</td>\n",
              "      <td>974</td>\n",
              "      <td>It makes sense that he went back to school to ...</td>\n",
              "      <td>2</td>\n",
              "    </tr>\n",
              "    <tr>\n",
              "      <th>135044</th>\n",
              "      <td>135045</td>\n",
              "      <td>7290</td>\n",
              "      <td>Call to Jeanette</td>\n",
              "      <td>2</td>\n",
              "    </tr>\n",
              "    <tr>\n",
              "      <th>121868</th>\n",
              "      <td>121869</td>\n",
              "      <td>6530</td>\n",
              "      <td>muddy sound</td>\n",
              "      <td>1</td>\n",
              "    </tr>\n",
              "    <tr>\n",
              "      <th>41861</th>\n",
              "      <td>41862</td>\n",
              "      <td>2015</td>\n",
              "      <td>Chaplin and Kidman ,</td>\n",
              "      <td>2</td>\n",
              "    </tr>\n",
              "    <tr>\n",
              "      <th>37720</th>\n",
              "      <td>37721</td>\n",
              "      <td>1795</td>\n",
              "      <td>The actors try hard but come off too amateuris...</td>\n",
              "      <td>0</td>\n",
              "    </tr>\n",
              "    <tr>\n",
              "      <th>145185</th>\n",
              "      <td>145186</td>\n",
              "      <td>7889</td>\n",
              "      <td>first Bond movie</td>\n",
              "      <td>2</td>\n",
              "    </tr>\n",
              "    <tr>\n",
              "      <th>97510</th>\n",
              "      <td>97511</td>\n",
              "      <td>5099</td>\n",
              "      <td>great combination act</td>\n",
              "      <td>3</td>\n",
              "    </tr>\n",
              "    <tr>\n",
              "      <th>19398</th>\n",
              "      <td>19399</td>\n",
              "      <td>851</td>\n",
              "      <td>tinny</td>\n",
              "      <td>2</td>\n",
              "    </tr>\n",
              "    <tr>\n",
              "      <th>141744</th>\n",
              "      <td>141745</td>\n",
              "      <td>7690</td>\n",
              "      <td>an underplayed melodrama about family dynamics...</td>\n",
              "      <td>2</td>\n",
              "    </tr>\n",
              "    <tr>\n",
              "      <th>96316</th>\n",
              "      <td>96317</td>\n",
              "      <td>5030</td>\n",
              "      <td>, the film is extremely thorough .</td>\n",
              "      <td>3</td>\n",
              "    </tr>\n",
              "    <tr>\n",
              "      <th>102350</th>\n",
              "      <td>102351</td>\n",
              "      <td>5386</td>\n",
              "      <td>tremble</td>\n",
              "      <td>2</td>\n",
              "    </tr>\n",
              "    <tr>\n",
              "      <th>149707</th>\n",
              "      <td>149708</td>\n",
              "      <td>8150</td>\n",
              "      <td>A thoughtful movie , a movie that is concerned...</td>\n",
              "      <td>2</td>\n",
              "    </tr>\n",
              "    <tr>\n",
              "      <th>67070</th>\n",
              "      <td>67071</td>\n",
              "      <td>3404</td>\n",
              "      <td>part romance novel</td>\n",
              "      <td>2</td>\n",
              "    </tr>\n",
              "    <tr>\n",
              "      <th>114104</th>\n",
              "      <td>114105</td>\n",
              "      <td>6066</td>\n",
              "      <td>Fails in making this character understandable ...</td>\n",
              "      <td>1</td>\n",
              "    </tr>\n",
              "    <tr>\n",
              "      <th>75032</th>\n",
              "      <td>75033</td>\n",
              "      <td>3847</td>\n",
              "      <td>adult movies</td>\n",
              "      <td>1</td>\n",
              "    </tr>\n",
              "    <tr>\n",
              "      <th>73481</th>\n",
              "      <td>73482</td>\n",
              "      <td>3755</td>\n",
              "      <td>better vehicle</td>\n",
              "      <td>3</td>\n",
              "    </tr>\n",
              "    <tr>\n",
              "      <th>90481</th>\n",
              "      <td>90482</td>\n",
              "      <td>4710</td>\n",
              "      <td>Though Frodo 's quest remains unfulfilled , a ...</td>\n",
              "      <td>2</td>\n",
              "    </tr>\n",
              "    <tr>\n",
              "      <th>14515</th>\n",
              "      <td>14516</td>\n",
              "      <td>625</td>\n",
              "      <td>lint</td>\n",
              "      <td>2</td>\n",
              "    </tr>\n",
              "    <tr>\n",
              "      <th>81232</th>\n",
              "      <td>81233</td>\n",
              "      <td>4187</td>\n",
              "      <td>provides an invaluable service</td>\n",
              "      <td>1</td>\n",
              "    </tr>\n",
              "    <tr>\n",
              "      <th>60425</th>\n",
              "      <td>60426</td>\n",
              "      <td>3052</td>\n",
              "      <td>The mystery of Enigma is how a rich historical...</td>\n",
              "      <td>1</td>\n",
              "    </tr>\n",
              "    <tr>\n",
              "      <th>73198</th>\n",
              "      <td>73199</td>\n",
              "      <td>3738</td>\n",
              "      <td>the unsettled tenor of that post 9-11 period</td>\n",
              "      <td>2</td>\n",
              "    </tr>\n",
              "    <tr>\n",
              "      <th>47955</th>\n",
              "      <td>47956</td>\n",
              "      <td>2339</td>\n",
              "      <td>get past the taboo subject matter</td>\n",
              "      <td>2</td>\n",
              "    </tr>\n",
              "    <tr>\n",
              "      <th>7122</th>\n",
              "      <td>7123</td>\n",
              "      <td>289</td>\n",
              "      <td>Robinson 's web of suspense matches the page-t...</td>\n",
              "      <td>4</td>\n",
              "    </tr>\n",
              "    <tr>\n",
              "      <th>73025</th>\n",
              "      <td>73026</td>\n",
              "      <td>3729</td>\n",
              "      <td>screen adaptation</td>\n",
              "      <td>2</td>\n",
              "    </tr>\n",
              "  </tbody>\n",
              "</table>\n",
              "</div>\n",
              "      <button class=\"colab-df-convert\" onclick=\"convertToInteractive('df-972b0913-c7b9-4767-a7a5-621426f8d464')\"\n",
              "              title=\"Convert this dataframe to an interactive table.\"\n",
              "              style=\"display:none;\">\n",
              "        \n",
              "  <svg xmlns=\"http://www.w3.org/2000/svg\" height=\"24px\"viewBox=\"0 0 24 24\"\n",
              "       width=\"24px\">\n",
              "    <path d=\"M0 0h24v24H0V0z\" fill=\"none\"/>\n",
              "    <path d=\"M18.56 5.44l.94 2.06.94-2.06 2.06-.94-2.06-.94-.94-2.06-.94 2.06-2.06.94zm-11 1L8.5 8.5l.94-2.06 2.06-.94-2.06-.94L8.5 2.5l-.94 2.06-2.06.94zm10 10l.94 2.06.94-2.06 2.06-.94-2.06-.94-.94-2.06-.94 2.06-2.06.94z\"/><path d=\"M17.41 7.96l-1.37-1.37c-.4-.4-.92-.59-1.43-.59-.52 0-1.04.2-1.43.59L10.3 9.45l-7.72 7.72c-.78.78-.78 2.05 0 2.83L4 21.41c.39.39.9.59 1.41.59.51 0 1.02-.2 1.41-.59l7.78-7.78 2.81-2.81c.8-.78.8-2.07 0-2.86zM5.41 20L4 18.59l7.72-7.72 1.47 1.35L5.41 20z\"/>\n",
              "  </svg>\n",
              "      </button>\n",
              "      \n",
              "  <style>\n",
              "    .colab-df-container {\n",
              "      display:flex;\n",
              "      flex-wrap:wrap;\n",
              "      gap: 12px;\n",
              "    }\n",
              "\n",
              "    .colab-df-convert {\n",
              "      background-color: #E8F0FE;\n",
              "      border: none;\n",
              "      border-radius: 50%;\n",
              "      cursor: pointer;\n",
              "      display: none;\n",
              "      fill: #1967D2;\n",
              "      height: 32px;\n",
              "      padding: 0 0 0 0;\n",
              "      width: 32px;\n",
              "    }\n",
              "\n",
              "    .colab-df-convert:hover {\n",
              "      background-color: #E2EBFA;\n",
              "      box-shadow: 0px 1px 2px rgba(60, 64, 67, 0.3), 0px 1px 3px 1px rgba(60, 64, 67, 0.15);\n",
              "      fill: #174EA6;\n",
              "    }\n",
              "\n",
              "    [theme=dark] .colab-df-convert {\n",
              "      background-color: #3B4455;\n",
              "      fill: #D2E3FC;\n",
              "    }\n",
              "\n",
              "    [theme=dark] .colab-df-convert:hover {\n",
              "      background-color: #434B5C;\n",
              "      box-shadow: 0px 1px 3px 1px rgba(0, 0, 0, 0.15);\n",
              "      filter: drop-shadow(0px 1px 2px rgba(0, 0, 0, 0.3));\n",
              "      fill: #FFFFFF;\n",
              "    }\n",
              "  </style>\n",
              "\n",
              "      <script>\n",
              "        const buttonEl =\n",
              "          document.querySelector('#df-972b0913-c7b9-4767-a7a5-621426f8d464 button.colab-df-convert');\n",
              "        buttonEl.style.display =\n",
              "          google.colab.kernel.accessAllowed ? 'block' : 'none';\n",
              "\n",
              "        async function convertToInteractive(key) {\n",
              "          const element = document.querySelector('#df-972b0913-c7b9-4767-a7a5-621426f8d464');\n",
              "          const dataTable =\n",
              "            await google.colab.kernel.invokeFunction('convertToInteractive',\n",
              "                                                     [key], {});\n",
              "          if (!dataTable) return;\n",
              "\n",
              "          const docLinkHtml = 'Like what you see? Visit the ' +\n",
              "            '<a target=\"_blank\" href=https://colab.research.google.com/notebooks/data_table.ipynb>data table notebook</a>'\n",
              "            + ' to learn more about interactive tables.';\n",
              "          element.innerHTML = '';\n",
              "          dataTable['output_type'] = 'display_data';\n",
              "          await google.colab.output.renderOutput(dataTable, element);\n",
              "          const docLink = document.createElement('div');\n",
              "          docLink.innerHTML = docLinkHtml;\n",
              "          element.appendChild(docLink);\n",
              "        }\n",
              "      </script>\n",
              "    </div>\n",
              "  </div>\n",
              "  "
            ]
          },
          "metadata": {},
          "execution_count": 70
        }
      ],
      "source": [
        "small_df"
      ]
    },
    {
      "cell_type": "code",
      "execution_count": 71,
      "metadata": {
        "id": "SVX3fbskDyGs",
        "colab": {
          "base_uri": "https://localhost:8080/"
        },
        "outputId": "4dea8673-cdee-40b4-93af-dbceada41e35"
      },
      "outputs": [
        {
          "output_type": "execute_result",
          "data": {
            "text/plain": [
              "0.7"
            ]
          },
          "metadata": {},
          "execution_count": 71
        }
      ],
      "source": [
        "accuracy_score(small_preds,small_df.Sentiment)"
      ]
    },
    {
      "cell_type": "code",
      "execution_count": 71,
      "metadata": {
        "id": "uUgkh-zfD1HI"
      },
      "outputs": [],
      "source": []
    },
    {
      "cell_type": "code",
      "execution_count": 71,
      "metadata": {
        "id": "urtcbsfd_AO0"
      },
      "outputs": [],
      "source": []
    },
    {
      "cell_type": "markdown",
      "metadata": {
        "id": "HkiqfeBneyth"
      },
      "source": [
        "### Make Predictions & Submit to Kaggle\n",
        "\n",
        "1. Make predictions on Test Dataset\n",
        "2. Generate & submit CSV on Kaggle\n",
        "3. Add screenshot of your score \n",
        "\n"
      ]
    },
    {
      "cell_type": "code",
      "source": [
        "test_inputs\n"
      ],
      "metadata": {
        "colab": {
          "base_uri": "https://localhost:8080/"
        },
        "id": "9_Px_C5YzRy2",
        "outputId": "e64a2661-b67a-4065-b6ef-3c6798c8c489"
      },
      "execution_count": 72,
      "outputs": [
        {
          "output_type": "execute_result",
          "data": {
            "text/plain": [
              "<66292x5000 sparse matrix of type '<class 'numpy.float64'>'\n",
              "\twith 249624 stored elements in Compressed Sparse Row format>"
            ]
          },
          "metadata": {},
          "execution_count": 72
        }
      ]
    },
    {
      "cell_type": "code",
      "execution_count": 73,
      "metadata": {
        "id": "jz8W9Nnce31g"
      },
      "outputs": [],
      "source": [
        "test_preds=model.predict(test_inputs)"
      ]
    },
    {
      "cell_type": "code",
      "execution_count": 74,
      "metadata": {
        "id": "RHfHJcBae4e3",
        "colab": {
          "base_uri": "https://localhost:8080/"
        },
        "outputId": "0510ec97-ff8e-43f6-b439-fc5f5bad3f59"
      },
      "outputs": [
        {
          "output_type": "execute_result",
          "data": {
            "text/plain": [
              "array([2, 2, 2, ..., 2, 2, 1])"
            ]
          },
          "metadata": {},
          "execution_count": 74
        }
      ],
      "source": [
        "\n",
        "test_preds"
      ]
    },
    {
      "cell_type": "code",
      "execution_count": 75,
      "metadata": {
        "id": "JZ1urPNme4bo"
      },
      "outputs": [],
      "source": [
        "sub_df.Sentiment=test_preds\n"
      ]
    },
    {
      "cell_type": "code",
      "execution_count": 76,
      "metadata": {
        "id": "MHUHTmYxEHcV",
        "colab": {
          "base_uri": "https://localhost:8080/",
          "height": 424
        },
        "outputId": "77c68152-00df-4e1b-aeae-a1888c540f09"
      },
      "outputs": [
        {
          "output_type": "execute_result",
          "data": {
            "text/plain": [
              "       PhraseId  Sentiment\n",
              "0        156061          2\n",
              "1        156062          2\n",
              "2        156063          2\n",
              "3        156064          2\n",
              "4        156065          2\n",
              "...         ...        ...\n",
              "66287    222348          1\n",
              "66288    222349          1\n",
              "66289    222350          2\n",
              "66290    222351          2\n",
              "66291    222352          1\n",
              "\n",
              "[66292 rows x 2 columns]"
            ],
            "text/html": [
              "\n",
              "  <div id=\"df-ec533f3a-dee9-427f-b1cc-c2d72a5c00e8\">\n",
              "    <div class=\"colab-df-container\">\n",
              "      <div>\n",
              "<style scoped>\n",
              "    .dataframe tbody tr th:only-of-type {\n",
              "        vertical-align: middle;\n",
              "    }\n",
              "\n",
              "    .dataframe tbody tr th {\n",
              "        vertical-align: top;\n",
              "    }\n",
              "\n",
              "    .dataframe thead th {\n",
              "        text-align: right;\n",
              "    }\n",
              "</style>\n",
              "<table border=\"1\" class=\"dataframe\">\n",
              "  <thead>\n",
              "    <tr style=\"text-align: right;\">\n",
              "      <th></th>\n",
              "      <th>PhraseId</th>\n",
              "      <th>Sentiment</th>\n",
              "    </tr>\n",
              "  </thead>\n",
              "  <tbody>\n",
              "    <tr>\n",
              "      <th>0</th>\n",
              "      <td>156061</td>\n",
              "      <td>2</td>\n",
              "    </tr>\n",
              "    <tr>\n",
              "      <th>1</th>\n",
              "      <td>156062</td>\n",
              "      <td>2</td>\n",
              "    </tr>\n",
              "    <tr>\n",
              "      <th>2</th>\n",
              "      <td>156063</td>\n",
              "      <td>2</td>\n",
              "    </tr>\n",
              "    <tr>\n",
              "      <th>3</th>\n",
              "      <td>156064</td>\n",
              "      <td>2</td>\n",
              "    </tr>\n",
              "    <tr>\n",
              "      <th>4</th>\n",
              "      <td>156065</td>\n",
              "      <td>2</td>\n",
              "    </tr>\n",
              "    <tr>\n",
              "      <th>...</th>\n",
              "      <td>...</td>\n",
              "      <td>...</td>\n",
              "    </tr>\n",
              "    <tr>\n",
              "      <th>66287</th>\n",
              "      <td>222348</td>\n",
              "      <td>1</td>\n",
              "    </tr>\n",
              "    <tr>\n",
              "      <th>66288</th>\n",
              "      <td>222349</td>\n",
              "      <td>1</td>\n",
              "    </tr>\n",
              "    <tr>\n",
              "      <th>66289</th>\n",
              "      <td>222350</td>\n",
              "      <td>2</td>\n",
              "    </tr>\n",
              "    <tr>\n",
              "      <th>66290</th>\n",
              "      <td>222351</td>\n",
              "      <td>2</td>\n",
              "    </tr>\n",
              "    <tr>\n",
              "      <th>66291</th>\n",
              "      <td>222352</td>\n",
              "      <td>1</td>\n",
              "    </tr>\n",
              "  </tbody>\n",
              "</table>\n",
              "<p>66292 rows × 2 columns</p>\n",
              "</div>\n",
              "      <button class=\"colab-df-convert\" onclick=\"convertToInteractive('df-ec533f3a-dee9-427f-b1cc-c2d72a5c00e8')\"\n",
              "              title=\"Convert this dataframe to an interactive table.\"\n",
              "              style=\"display:none;\">\n",
              "        \n",
              "  <svg xmlns=\"http://www.w3.org/2000/svg\" height=\"24px\"viewBox=\"0 0 24 24\"\n",
              "       width=\"24px\">\n",
              "    <path d=\"M0 0h24v24H0V0z\" fill=\"none\"/>\n",
              "    <path d=\"M18.56 5.44l.94 2.06.94-2.06 2.06-.94-2.06-.94-.94-2.06-.94 2.06-2.06.94zm-11 1L8.5 8.5l.94-2.06 2.06-.94-2.06-.94L8.5 2.5l-.94 2.06-2.06.94zm10 10l.94 2.06.94-2.06 2.06-.94-2.06-.94-.94-2.06-.94 2.06-2.06.94z\"/><path d=\"M17.41 7.96l-1.37-1.37c-.4-.4-.92-.59-1.43-.59-.52 0-1.04.2-1.43.59L10.3 9.45l-7.72 7.72c-.78.78-.78 2.05 0 2.83L4 21.41c.39.39.9.59 1.41.59.51 0 1.02-.2 1.41-.59l7.78-7.78 2.81-2.81c.8-.78.8-2.07 0-2.86zM5.41 20L4 18.59l7.72-7.72 1.47 1.35L5.41 20z\"/>\n",
              "  </svg>\n",
              "      </button>\n",
              "      \n",
              "  <style>\n",
              "    .colab-df-container {\n",
              "      display:flex;\n",
              "      flex-wrap:wrap;\n",
              "      gap: 12px;\n",
              "    }\n",
              "\n",
              "    .colab-df-convert {\n",
              "      background-color: #E8F0FE;\n",
              "      border: none;\n",
              "      border-radius: 50%;\n",
              "      cursor: pointer;\n",
              "      display: none;\n",
              "      fill: #1967D2;\n",
              "      height: 32px;\n",
              "      padding: 0 0 0 0;\n",
              "      width: 32px;\n",
              "    }\n",
              "\n",
              "    .colab-df-convert:hover {\n",
              "      background-color: #E2EBFA;\n",
              "      box-shadow: 0px 1px 2px rgba(60, 64, 67, 0.3), 0px 1px 3px 1px rgba(60, 64, 67, 0.15);\n",
              "      fill: #174EA6;\n",
              "    }\n",
              "\n",
              "    [theme=dark] .colab-df-convert {\n",
              "      background-color: #3B4455;\n",
              "      fill: #D2E3FC;\n",
              "    }\n",
              "\n",
              "    [theme=dark] .colab-df-convert:hover {\n",
              "      background-color: #434B5C;\n",
              "      box-shadow: 0px 1px 3px 1px rgba(0, 0, 0, 0.15);\n",
              "      filter: drop-shadow(0px 1px 2px rgba(0, 0, 0, 0.3));\n",
              "      fill: #FFFFFF;\n",
              "    }\n",
              "  </style>\n",
              "\n",
              "      <script>\n",
              "        const buttonEl =\n",
              "          document.querySelector('#df-ec533f3a-dee9-427f-b1cc-c2d72a5c00e8 button.colab-df-convert');\n",
              "        buttonEl.style.display =\n",
              "          google.colab.kernel.accessAllowed ? 'block' : 'none';\n",
              "\n",
              "        async function convertToInteractive(key) {\n",
              "          const element = document.querySelector('#df-ec533f3a-dee9-427f-b1cc-c2d72a5c00e8');\n",
              "          const dataTable =\n",
              "            await google.colab.kernel.invokeFunction('convertToInteractive',\n",
              "                                                     [key], {});\n",
              "          if (!dataTable) return;\n",
              "\n",
              "          const docLinkHtml = 'Like what you see? Visit the ' +\n",
              "            '<a target=\"_blank\" href=https://colab.research.google.com/notebooks/data_table.ipynb>data table notebook</a>'\n",
              "            + ' to learn more about interactive tables.';\n",
              "          element.innerHTML = '';\n",
              "          dataTable['output_type'] = 'display_data';\n",
              "          await google.colab.output.renderOutput(dataTable, element);\n",
              "          const docLink = document.createElement('div');\n",
              "          docLink.innerHTML = docLinkHtml;\n",
              "          element.appendChild(docLink);\n",
              "        }\n",
              "      </script>\n",
              "    </div>\n",
              "  </div>\n",
              "  "
            ]
          },
          "metadata": {},
          "execution_count": 76
        }
      ],
      "source": [
        "sub_df"
      ]
    },
    {
      "cell_type": "code",
      "execution_count": 77,
      "metadata": {
        "id": "HOTojNcWEHZ7"
      },
      "outputs": [],
      "source": [
        "sub_df.to_csv('submission.csv',index=None)"
      ]
    },
    {
      "cell_type": "code",
      "source": [],
      "metadata": {
        "id": "r1dCcfamz7NS"
      },
      "execution_count": 77,
      "outputs": []
    },
    {
      "cell_type": "markdown",
      "metadata": {
        "id": "8kne2rQq8qL0"
      },
      "source": [
        "## Train & Finetune Different ML Models\n",
        "\n",
        "Train & finetune at least 2 other types of models\n",
        "\n",
        "Models to try:\n",
        "- Decision Trees\n",
        "- Random Forests\n",
        "- Gradient Boosting\n",
        "- Naive Bayes\n",
        "- SVM\n",
        "\n",
        "Optional: \n",
        "* Use PCA for dimensionality reduction\n",
        "* Compare classification vs regression models\n",
        "\n",
        "\n",
        "Tips: \n",
        "\n",
        "- If using a regression model, make sure to round predictions to integer and clip to the range `[1,5]`\n",
        "- Track your progress in a copy of [this experiment tracking spreadsheet](https://docs.google.com/spreadsheets/d/1X-tifxAOAYeIA2J32hBGP5B0MPnZy_o-zOz1NbS-1Ig/edit?usp=sharing)\n"
      ]
    },
    {
      "cell_type": "markdown",
      "metadata": {
        "id": "4nU5Z_s67D89"
      },
      "source": [
        "\n",
        "\n",
        "```\n",
        "# This is formatted as code\n",
        "```\n",
        "\n",
        "### Model 1-NAIVE bAYES"
      ]
    },
    {
      "cell_type": "code",
      "execution_count": 78,
      "metadata": {
        "id": "kN-yZN12e4Yz"
      },
      "outputs": [],
      "source": [
        "from sklearn.naive_bayes import MultinomialNB"
      ]
    },
    {
      "cell_type": "code",
      "execution_count": 79,
      "metadata": {
        "id": "X8f6t6wge4WV"
      },
      "outputs": [],
      "source": [
        "model1=MultinomialNB()"
      ]
    },
    {
      "cell_type": "code",
      "execution_count": 80,
      "metadata": {
        "colab": {
          "base_uri": "https://localhost:8080/"
        },
        "id": "lig2PXUCAfqF",
        "outputId": "3bfc9721-8209-48d9-9100-d4715afc11e7"
      },
      "outputs": [
        {
          "output_type": "execute_result",
          "data": {
            "text/plain": [
              "MultinomialNB()"
            ]
          },
          "metadata": {},
          "execution_count": 80
        }
      ],
      "source": [
        "model1.fit(train_inputs,train_targets)"
      ]
    },
    {
      "cell_type": "code",
      "source": [
        "train_preds=model1.predict(train_inputs)"
      ],
      "metadata": {
        "id": "Kwj_V0T9f-Jw"
      },
      "execution_count": 81,
      "outputs": []
    },
    {
      "cell_type": "code",
      "source": [
        "accuracy_score(train_preds,train_targets)"
      ],
      "metadata": {
        "colab": {
          "base_uri": "https://localhost:8080/"
        },
        "id": "Z7ZIpdnxf4TE",
        "outputId": "05f7f4de-250a-4a82-82d4-cec5a8475797"
      },
      "execution_count": 82,
      "outputs": [
        {
          "output_type": "execute_result",
          "data": {
            "text/plain": [
              "0.6099272727272728"
            ]
          },
          "metadata": {},
          "execution_count": 82
        }
      ]
    },
    {
      "cell_type": "code",
      "source": [
        "val_preds=model1.predict(val_in)"
      ],
      "metadata": {
        "id": "hPj4qzuif4ed"
      },
      "execution_count": 83,
      "outputs": []
    },
    {
      "cell_type": "code",
      "source": [
        "accuracy_score(val_preds,val_targets)"
      ],
      "metadata": {
        "colab": {
          "base_uri": "https://localhost:8080/"
        },
        "id": "6PbRa_e2gaHF",
        "outputId": "2bba5a3a-bac6-49c9-991b-fb2702adecaf"
      },
      "execution_count": 84,
      "outputs": [
        {
          "output_type": "execute_result",
          "data": {
            "text/plain": [
              "0.5494789405123751"
            ]
          },
          "metadata": {},
          "execution_count": 84
        }
      ]
    },
    {
      "cell_type": "code",
      "source": [
        "model11=MultinomialNB(class_prior=(0.05,0.20,0.50,0.06,0.08))"
      ],
      "metadata": {
        "id": "-O6XZIdegj-E"
      },
      "execution_count": 85,
      "outputs": []
    },
    {
      "cell_type": "code",
      "source": [
        "model11.fit(train_inputs,train_targets)"
      ],
      "metadata": {
        "colab": {
          "base_uri": "https://localhost:8080/"
        },
        "id": "XtFZ16_kgkC2",
        "outputId": "e031b600-d2e4-49c0-87de-7ea1114bf488"
      },
      "execution_count": 86,
      "outputs": [
        {
          "output_type": "execute_result",
          "data": {
            "text/plain": [
              "MultinomialNB(class_prior=(0.05, 0.2, 0.5, 0.06, 0.08))"
            ]
          },
          "metadata": {},
          "execution_count": 86
        }
      ]
    },
    {
      "cell_type": "code",
      "source": [
        "t1=model11.predict(train_inputs)"
      ],
      "metadata": {
        "id": "oPYKXoBQhAfE"
      },
      "execution_count": 87,
      "outputs": []
    },
    {
      "cell_type": "code",
      "source": [
        "accuracy_score(train_targets,t1)"
      ],
      "metadata": {
        "colab": {
          "base_uri": "https://localhost:8080/"
        },
        "id": "R0rNb1ichUQF",
        "outputId": "c013d036-7ce1-4c04-b129-35d37ffb7dec"
      },
      "execution_count": 88,
      "outputs": [
        {
          "output_type": "execute_result",
          "data": {
            "text/plain": [
              "0.5769"
            ]
          },
          "metadata": {},
          "execution_count": 88
        }
      ]
    },
    {
      "cell_type": "code",
      "source": [
        "accuracy_score(val_targets,model11.predict(val_in))"
      ],
      "metadata": {
        "colab": {
          "base_uri": "https://localhost:8080/"
        },
        "id": "Hp6R4BSdhAqr",
        "outputId": "22e708cf-8d5e-4ba1-d3c4-1ddb77ab748c"
      },
      "execution_count": 89,
      "outputs": [
        {
          "output_type": "execute_result",
          "data": {
            "text/plain": [
              "0.5299174989144594"
            ]
          },
          "metadata": {},
          "execution_count": 89
        }
      ]
    },
    {
      "cell_type": "code",
      "source": [
        "test_preds1=model11.predict(test_inputs)"
      ],
      "metadata": {
        "id": "riVdIyuYhqht"
      },
      "execution_count": 90,
      "outputs": []
    },
    {
      "cell_type": "code",
      "source": [
        "test_preds1"
      ],
      "metadata": {
        "colab": {
          "base_uri": "https://localhost:8080/"
        },
        "id": "fOXb5c9fiPo3",
        "outputId": "9339fcff-e258-49dc-f88c-c3defeea9f8a"
      },
      "execution_count": 91,
      "outputs": [
        {
          "output_type": "execute_result",
          "data": {
            "text/plain": [
              "array([2, 2, 2, ..., 2, 2, 2])"
            ]
          },
          "metadata": {},
          "execution_count": 91
        }
      ]
    },
    {
      "cell_type": "code",
      "source": [
        "sub_df.Sentiment=test_preds1"
      ],
      "metadata": {
        "id": "ekALiY-8iP1Y"
      },
      "execution_count": 92,
      "outputs": []
    },
    {
      "cell_type": "code",
      "source": [
        "sub_df"
      ],
      "metadata": {
        "colab": {
          "base_uri": "https://localhost:8080/",
          "height": 424
        },
        "id": "wLimkCuTiqHC",
        "outputId": "f776fe5f-e261-46db-a94a-c109dd6e4950"
      },
      "execution_count": 93,
      "outputs": [
        {
          "output_type": "execute_result",
          "data": {
            "text/plain": [
              "       PhraseId  Sentiment\n",
              "0        156061          2\n",
              "1        156062          2\n",
              "2        156063          2\n",
              "3        156064          2\n",
              "4        156065          2\n",
              "...         ...        ...\n",
              "66287    222348          1\n",
              "66288    222349          2\n",
              "66289    222350          2\n",
              "66290    222351          2\n",
              "66291    222352          2\n",
              "\n",
              "[66292 rows x 2 columns]"
            ],
            "text/html": [
              "\n",
              "  <div id=\"df-05bc5d70-28a4-424c-be4e-c691359fbed6\">\n",
              "    <div class=\"colab-df-container\">\n",
              "      <div>\n",
              "<style scoped>\n",
              "    .dataframe tbody tr th:only-of-type {\n",
              "        vertical-align: middle;\n",
              "    }\n",
              "\n",
              "    .dataframe tbody tr th {\n",
              "        vertical-align: top;\n",
              "    }\n",
              "\n",
              "    .dataframe thead th {\n",
              "        text-align: right;\n",
              "    }\n",
              "</style>\n",
              "<table border=\"1\" class=\"dataframe\">\n",
              "  <thead>\n",
              "    <tr style=\"text-align: right;\">\n",
              "      <th></th>\n",
              "      <th>PhraseId</th>\n",
              "      <th>Sentiment</th>\n",
              "    </tr>\n",
              "  </thead>\n",
              "  <tbody>\n",
              "    <tr>\n",
              "      <th>0</th>\n",
              "      <td>156061</td>\n",
              "      <td>2</td>\n",
              "    </tr>\n",
              "    <tr>\n",
              "      <th>1</th>\n",
              "      <td>156062</td>\n",
              "      <td>2</td>\n",
              "    </tr>\n",
              "    <tr>\n",
              "      <th>2</th>\n",
              "      <td>156063</td>\n",
              "      <td>2</td>\n",
              "    </tr>\n",
              "    <tr>\n",
              "      <th>3</th>\n",
              "      <td>156064</td>\n",
              "      <td>2</td>\n",
              "    </tr>\n",
              "    <tr>\n",
              "      <th>4</th>\n",
              "      <td>156065</td>\n",
              "      <td>2</td>\n",
              "    </tr>\n",
              "    <tr>\n",
              "      <th>...</th>\n",
              "      <td>...</td>\n",
              "      <td>...</td>\n",
              "    </tr>\n",
              "    <tr>\n",
              "      <th>66287</th>\n",
              "      <td>222348</td>\n",
              "      <td>1</td>\n",
              "    </tr>\n",
              "    <tr>\n",
              "      <th>66288</th>\n",
              "      <td>222349</td>\n",
              "      <td>2</td>\n",
              "    </tr>\n",
              "    <tr>\n",
              "      <th>66289</th>\n",
              "      <td>222350</td>\n",
              "      <td>2</td>\n",
              "    </tr>\n",
              "    <tr>\n",
              "      <th>66290</th>\n",
              "      <td>222351</td>\n",
              "      <td>2</td>\n",
              "    </tr>\n",
              "    <tr>\n",
              "      <th>66291</th>\n",
              "      <td>222352</td>\n",
              "      <td>2</td>\n",
              "    </tr>\n",
              "  </tbody>\n",
              "</table>\n",
              "<p>66292 rows × 2 columns</p>\n",
              "</div>\n",
              "      <button class=\"colab-df-convert\" onclick=\"convertToInteractive('df-05bc5d70-28a4-424c-be4e-c691359fbed6')\"\n",
              "              title=\"Convert this dataframe to an interactive table.\"\n",
              "              style=\"display:none;\">\n",
              "        \n",
              "  <svg xmlns=\"http://www.w3.org/2000/svg\" height=\"24px\"viewBox=\"0 0 24 24\"\n",
              "       width=\"24px\">\n",
              "    <path d=\"M0 0h24v24H0V0z\" fill=\"none\"/>\n",
              "    <path d=\"M18.56 5.44l.94 2.06.94-2.06 2.06-.94-2.06-.94-.94-2.06-.94 2.06-2.06.94zm-11 1L8.5 8.5l.94-2.06 2.06-.94-2.06-.94L8.5 2.5l-.94 2.06-2.06.94zm10 10l.94 2.06.94-2.06 2.06-.94-2.06-.94-.94-2.06-.94 2.06-2.06.94z\"/><path d=\"M17.41 7.96l-1.37-1.37c-.4-.4-.92-.59-1.43-.59-.52 0-1.04.2-1.43.59L10.3 9.45l-7.72 7.72c-.78.78-.78 2.05 0 2.83L4 21.41c.39.39.9.59 1.41.59.51 0 1.02-.2 1.41-.59l7.78-7.78 2.81-2.81c.8-.78.8-2.07 0-2.86zM5.41 20L4 18.59l7.72-7.72 1.47 1.35L5.41 20z\"/>\n",
              "  </svg>\n",
              "      </button>\n",
              "      \n",
              "  <style>\n",
              "    .colab-df-container {\n",
              "      display:flex;\n",
              "      flex-wrap:wrap;\n",
              "      gap: 12px;\n",
              "    }\n",
              "\n",
              "    .colab-df-convert {\n",
              "      background-color: #E8F0FE;\n",
              "      border: none;\n",
              "      border-radius: 50%;\n",
              "      cursor: pointer;\n",
              "      display: none;\n",
              "      fill: #1967D2;\n",
              "      height: 32px;\n",
              "      padding: 0 0 0 0;\n",
              "      width: 32px;\n",
              "    }\n",
              "\n",
              "    .colab-df-convert:hover {\n",
              "      background-color: #E2EBFA;\n",
              "      box-shadow: 0px 1px 2px rgba(60, 64, 67, 0.3), 0px 1px 3px 1px rgba(60, 64, 67, 0.15);\n",
              "      fill: #174EA6;\n",
              "    }\n",
              "\n",
              "    [theme=dark] .colab-df-convert {\n",
              "      background-color: #3B4455;\n",
              "      fill: #D2E3FC;\n",
              "    }\n",
              "\n",
              "    [theme=dark] .colab-df-convert:hover {\n",
              "      background-color: #434B5C;\n",
              "      box-shadow: 0px 1px 3px 1px rgba(0, 0, 0, 0.15);\n",
              "      filter: drop-shadow(0px 1px 2px rgba(0, 0, 0, 0.3));\n",
              "      fill: #FFFFFF;\n",
              "    }\n",
              "  </style>\n",
              "\n",
              "      <script>\n",
              "        const buttonEl =\n",
              "          document.querySelector('#df-05bc5d70-28a4-424c-be4e-c691359fbed6 button.colab-df-convert');\n",
              "        buttonEl.style.display =\n",
              "          google.colab.kernel.accessAllowed ? 'block' : 'none';\n",
              "\n",
              "        async function convertToInteractive(key) {\n",
              "          const element = document.querySelector('#df-05bc5d70-28a4-424c-be4e-c691359fbed6');\n",
              "          const dataTable =\n",
              "            await google.colab.kernel.invokeFunction('convertToInteractive',\n",
              "                                                     [key], {});\n",
              "          if (!dataTable) return;\n",
              "\n",
              "          const docLinkHtml = 'Like what you see? Visit the ' +\n",
              "            '<a target=\"_blank\" href=https://colab.research.google.com/notebooks/data_table.ipynb>data table notebook</a>'\n",
              "            + ' to learn more about interactive tables.';\n",
              "          element.innerHTML = '';\n",
              "          dataTable['output_type'] = 'display_data';\n",
              "          await google.colab.output.renderOutput(dataTable, element);\n",
              "          const docLink = document.createElement('div');\n",
              "          docLink.innerHTML = docLinkHtml;\n",
              "          element.appendChild(docLink);\n",
              "        }\n",
              "      </script>\n",
              "    </div>\n",
              "  </div>\n",
              "  "
            ]
          },
          "metadata": {},
          "execution_count": 93
        }
      ]
    },
    {
      "cell_type": "code",
      "source": [
        "sub_df.to_csv('submission.csv',index=None)"
      ],
      "metadata": {
        "id": "35EqqAm8iqD6"
      },
      "execution_count": 94,
      "outputs": []
    },
    {
      "cell_type": "code",
      "source": [],
      "metadata": {
        "id": "sTeBwF8UiqAS"
      },
      "execution_count": 94,
      "outputs": []
    },
    {
      "cell_type": "markdown",
      "metadata": {
        "id": "ewoiYmCyAmuZ",
        "outputId": "7a98660c-5c53-4177-9646-377081671071"
      },
      "source": [
        "### Model 2"
      ]
    },
    {
      "cell_type": "code",
      "source": [
        "from sklearn.tree import DecisionTreeClassifier"
      ],
      "metadata": {
        "id": "zK1_vPTioAyt"
      },
      "execution_count": 129,
      "outputs": []
    },
    {
      "cell_type": "code",
      "source": [
        "decision_tree = DecisionTreeClassifier(random_state=0, max_depth=2)"
      ],
      "metadata": {
        "id": "8AuZZ4VgoSkk"
      },
      "execution_count": 131,
      "outputs": []
    },
    {
      "cell_type": "code",
      "source": [
        " decision_tree.fit(train_inputs, train_targets)"
      ],
      "metadata": {
        "colab": {
          "base_uri": "https://localhost:8080/"
        },
        "id": "1YfB_rV9oSte",
        "outputId": "f4ae3582-df03-42c6-87b1-7437a21876b0"
      },
      "execution_count": 132,
      "outputs": [
        {
          "output_type": "execute_result",
          "data": {
            "text/plain": [
              "DecisionTreeClassifier(max_depth=2, random_state=0)"
            ]
          },
          "metadata": {},
          "execution_count": 132
        }
      ]
    },
    {
      "cell_type": "code",
      "source": [
        "dt_preds=decision_tree.predict(train_inputs)"
      ],
      "metadata": {
        "id": "oDGhWNaToSyG"
      },
      "execution_count": 133,
      "outputs": []
    },
    {
      "cell_type": "code",
      "source": [
        "accuracy_score(dt_preds,train_targets)"
      ],
      "metadata": {
        "colab": {
          "base_uri": "https://localhost:8080/"
        },
        "id": "SY_iTkYzoS8O",
        "outputId": "c765db4d-59f0-4ff9-e116-62aab4e662d9"
      },
      "execution_count": 134,
      "outputs": [
        {
          "output_type": "execute_result",
          "data": {
            "text/plain": [
              "0.5224272727272727"
            ]
          },
          "metadata": {},
          "execution_count": 134
        }
      ]
    },
    {
      "cell_type": "code",
      "source": [
        "val_preds2=decision_tree.predict(val_in)"
      ],
      "metadata": {
        "id": "qj7_pR2_qyPh"
      },
      "execution_count": 135,
      "outputs": []
    },
    {
      "cell_type": "code",
      "source": [
        "accuracy_score(val_targets,val_preds2)"
      ],
      "metadata": {
        "colab": {
          "base_uri": "https://localhost:8080/"
        },
        "id": "1c9e4QOtq6yF",
        "outputId": "eaae613c-fe7b-4c26-d0ba-e5b1a1dea916"
      },
      "execution_count": 136,
      "outputs": [
        {
          "output_type": "execute_result",
          "data": {
            "text/plain": [
              "0.49874077290490665"
            ]
          },
          "metadata": {},
          "execution_count": 136
        }
      ]
    },
    {
      "cell_type": "code",
      "source": [
        "test_p2=decision_tree.predict(test_inputs)"
      ],
      "metadata": {
        "id": "oFhuK3PIjtnL"
      },
      "execution_count": 137,
      "outputs": []
    },
    {
      "cell_type": "code",
      "source": [],
      "metadata": {
        "id": "DH4e2DkAq-sR"
      },
      "execution_count": null,
      "outputs": []
    },
    {
      "cell_type": "code",
      "source": [
        "test_p2"
      ],
      "metadata": {
        "colab": {
          "base_uri": "https://localhost:8080/"
        },
        "id": "szlQusU3j-4f",
        "outputId": "f3cb391c-fd5f-4fd3-937f-8e84131825a8"
      },
      "execution_count": 138,
      "outputs": [
        {
          "output_type": "execute_result",
          "data": {
            "text/plain": [
              "array([3, 2, 2, ..., 2, 2, 2])"
            ]
          },
          "metadata": {},
          "execution_count": 138
        }
      ]
    },
    {
      "cell_type": "code",
      "source": [
        "sub_df.Sentiment=test_p2"
      ],
      "metadata": {
        "id": "I32C6e3jj-7c"
      },
      "execution_count": 139,
      "outputs": []
    },
    {
      "cell_type": "code",
      "source": [
        "sub_df"
      ],
      "metadata": {
        "colab": {
          "base_uri": "https://localhost:8080/",
          "height": 424
        },
        "id": "_dJyVhGYkIx2",
        "outputId": "35eeabfa-6923-4bb8-fc9f-07f4c91db37c"
      },
      "execution_count": 140,
      "outputs": [
        {
          "output_type": "execute_result",
          "data": {
            "text/plain": [
              "       PhraseId  Sentiment\n",
              "0        156061          3\n",
              "1        156062          2\n",
              "2        156063          2\n",
              "3        156064          2\n",
              "4        156065          2\n",
              "...         ...        ...\n",
              "66287    222348          3\n",
              "66288    222349          2\n",
              "66289    222350          2\n",
              "66290    222351          2\n",
              "66291    222352          2\n",
              "\n",
              "[66292 rows x 2 columns]"
            ],
            "text/html": [
              "\n",
              "  <div id=\"df-0cc01171-8ec7-40df-8ab8-e8edf846ed33\">\n",
              "    <div class=\"colab-df-container\">\n",
              "      <div>\n",
              "<style scoped>\n",
              "    .dataframe tbody tr th:only-of-type {\n",
              "        vertical-align: middle;\n",
              "    }\n",
              "\n",
              "    .dataframe tbody tr th {\n",
              "        vertical-align: top;\n",
              "    }\n",
              "\n",
              "    .dataframe thead th {\n",
              "        text-align: right;\n",
              "    }\n",
              "</style>\n",
              "<table border=\"1\" class=\"dataframe\">\n",
              "  <thead>\n",
              "    <tr style=\"text-align: right;\">\n",
              "      <th></th>\n",
              "      <th>PhraseId</th>\n",
              "      <th>Sentiment</th>\n",
              "    </tr>\n",
              "  </thead>\n",
              "  <tbody>\n",
              "    <tr>\n",
              "      <th>0</th>\n",
              "      <td>156061</td>\n",
              "      <td>3</td>\n",
              "    </tr>\n",
              "    <tr>\n",
              "      <th>1</th>\n",
              "      <td>156062</td>\n",
              "      <td>2</td>\n",
              "    </tr>\n",
              "    <tr>\n",
              "      <th>2</th>\n",
              "      <td>156063</td>\n",
              "      <td>2</td>\n",
              "    </tr>\n",
              "    <tr>\n",
              "      <th>3</th>\n",
              "      <td>156064</td>\n",
              "      <td>2</td>\n",
              "    </tr>\n",
              "    <tr>\n",
              "      <th>4</th>\n",
              "      <td>156065</td>\n",
              "      <td>2</td>\n",
              "    </tr>\n",
              "    <tr>\n",
              "      <th>...</th>\n",
              "      <td>...</td>\n",
              "      <td>...</td>\n",
              "    </tr>\n",
              "    <tr>\n",
              "      <th>66287</th>\n",
              "      <td>222348</td>\n",
              "      <td>3</td>\n",
              "    </tr>\n",
              "    <tr>\n",
              "      <th>66288</th>\n",
              "      <td>222349</td>\n",
              "      <td>2</td>\n",
              "    </tr>\n",
              "    <tr>\n",
              "      <th>66289</th>\n",
              "      <td>222350</td>\n",
              "      <td>2</td>\n",
              "    </tr>\n",
              "    <tr>\n",
              "      <th>66290</th>\n",
              "      <td>222351</td>\n",
              "      <td>2</td>\n",
              "    </tr>\n",
              "    <tr>\n",
              "      <th>66291</th>\n",
              "      <td>222352</td>\n",
              "      <td>2</td>\n",
              "    </tr>\n",
              "  </tbody>\n",
              "</table>\n",
              "<p>66292 rows × 2 columns</p>\n",
              "</div>\n",
              "      <button class=\"colab-df-convert\" onclick=\"convertToInteractive('df-0cc01171-8ec7-40df-8ab8-e8edf846ed33')\"\n",
              "              title=\"Convert this dataframe to an interactive table.\"\n",
              "              style=\"display:none;\">\n",
              "        \n",
              "  <svg xmlns=\"http://www.w3.org/2000/svg\" height=\"24px\"viewBox=\"0 0 24 24\"\n",
              "       width=\"24px\">\n",
              "    <path d=\"M0 0h24v24H0V0z\" fill=\"none\"/>\n",
              "    <path d=\"M18.56 5.44l.94 2.06.94-2.06 2.06-.94-2.06-.94-.94-2.06-.94 2.06-2.06.94zm-11 1L8.5 8.5l.94-2.06 2.06-.94-2.06-.94L8.5 2.5l-.94 2.06-2.06.94zm10 10l.94 2.06.94-2.06 2.06-.94-2.06-.94-.94-2.06-.94 2.06-2.06.94z\"/><path d=\"M17.41 7.96l-1.37-1.37c-.4-.4-.92-.59-1.43-.59-.52 0-1.04.2-1.43.59L10.3 9.45l-7.72 7.72c-.78.78-.78 2.05 0 2.83L4 21.41c.39.39.9.59 1.41.59.51 0 1.02-.2 1.41-.59l7.78-7.78 2.81-2.81c.8-.78.8-2.07 0-2.86zM5.41 20L4 18.59l7.72-7.72 1.47 1.35L5.41 20z\"/>\n",
              "  </svg>\n",
              "      </button>\n",
              "      \n",
              "  <style>\n",
              "    .colab-df-container {\n",
              "      display:flex;\n",
              "      flex-wrap:wrap;\n",
              "      gap: 12px;\n",
              "    }\n",
              "\n",
              "    .colab-df-convert {\n",
              "      background-color: #E8F0FE;\n",
              "      border: none;\n",
              "      border-radius: 50%;\n",
              "      cursor: pointer;\n",
              "      display: none;\n",
              "      fill: #1967D2;\n",
              "      height: 32px;\n",
              "      padding: 0 0 0 0;\n",
              "      width: 32px;\n",
              "    }\n",
              "\n",
              "    .colab-df-convert:hover {\n",
              "      background-color: #E2EBFA;\n",
              "      box-shadow: 0px 1px 2px rgba(60, 64, 67, 0.3), 0px 1px 3px 1px rgba(60, 64, 67, 0.15);\n",
              "      fill: #174EA6;\n",
              "    }\n",
              "\n",
              "    [theme=dark] .colab-df-convert {\n",
              "      background-color: #3B4455;\n",
              "      fill: #D2E3FC;\n",
              "    }\n",
              "\n",
              "    [theme=dark] .colab-df-convert:hover {\n",
              "      background-color: #434B5C;\n",
              "      box-shadow: 0px 1px 3px 1px rgba(0, 0, 0, 0.15);\n",
              "      filter: drop-shadow(0px 1px 2px rgba(0, 0, 0, 0.3));\n",
              "      fill: #FFFFFF;\n",
              "    }\n",
              "  </style>\n",
              "\n",
              "      <script>\n",
              "        const buttonEl =\n",
              "          document.querySelector('#df-0cc01171-8ec7-40df-8ab8-e8edf846ed33 button.colab-df-convert');\n",
              "        buttonEl.style.display =\n",
              "          google.colab.kernel.accessAllowed ? 'block' : 'none';\n",
              "\n",
              "        async function convertToInteractive(key) {\n",
              "          const element = document.querySelector('#df-0cc01171-8ec7-40df-8ab8-e8edf846ed33');\n",
              "          const dataTable =\n",
              "            await google.colab.kernel.invokeFunction('convertToInteractive',\n",
              "                                                     [key], {});\n",
              "          if (!dataTable) return;\n",
              "\n",
              "          const docLinkHtml = 'Like what you see? Visit the ' +\n",
              "            '<a target=\"_blank\" href=https://colab.research.google.com/notebooks/data_table.ipynb>data table notebook</a>'\n",
              "            + ' to learn more about interactive tables.';\n",
              "          element.innerHTML = '';\n",
              "          dataTable['output_type'] = 'display_data';\n",
              "          await google.colab.output.renderOutput(dataTable, element);\n",
              "          const docLink = document.createElement('div');\n",
              "          docLink.innerHTML = docLinkHtml;\n",
              "          element.appendChild(docLink);\n",
              "        }\n",
              "      </script>\n",
              "    </div>\n",
              "  </div>\n",
              "  "
            ]
          },
          "metadata": {},
          "execution_count": 140
        }
      ]
    },
    {
      "cell_type": "code",
      "source": [
        "sub_df.to_csv('submissionDT.csv',index=None)"
      ],
      "metadata": {
        "id": "HmwfTFGpkI8t"
      },
      "execution_count": 141,
      "outputs": []
    },
    {
      "cell_type": "markdown",
      "metadata": {
        "id": "S8WnmO8SDopQ",
        "outputId": "ad27a3ba-b6e9-4675-9b20-0e338f3fcf8d"
      },
      "source": [
        "### Model 3"
      ]
    },
    {
      "cell_type": "code",
      "execution_count": 108,
      "metadata": {
        "id": "FuRhZQJqDomm"
      },
      "outputs": [],
      "source": [
        "import xgboost as xgb"
      ]
    },
    {
      "cell_type": "code",
      "source": [
        "xg1=xgb.XGBClassifier(objective=\"multi:softprob\", random_state=42)"
      ],
      "metadata": {
        "id": "5Ruj8t3AmHx3"
      },
      "execution_count": 109,
      "outputs": []
    },
    {
      "cell_type": "code",
      "source": [
        "xg1.fit(train_inputs, train_targets)"
      ],
      "metadata": {
        "colab": {
          "base_uri": "https://localhost:8080/"
        },
        "id": "-tecR9NlmQZu",
        "outputId": "d7f39efa-1b4d-4f31-9307-3f2196d4d6b3"
      },
      "execution_count": 110,
      "outputs": [
        {
          "output_type": "execute_result",
          "data": {
            "text/plain": [
              "XGBClassifier(objective='multi:softprob', random_state=42)"
            ]
          },
          "metadata": {},
          "execution_count": 110
        }
      ]
    },
    {
      "cell_type": "code",
      "source": [
        "from sklearn.metrics import auc, accuracy_score, confusion_matrix, mean_squared_error"
      ],
      "metadata": {
        "id": "-J3yQ8YrlzHk"
      },
      "execution_count": 114,
      "outputs": []
    },
    {
      "cell_type": "code",
      "source": [
        "y_pred1 = xg1.predict(train_inputs)"
      ],
      "metadata": {
        "id": "kxPsxtmdmXlm"
      },
      "execution_count": 111,
      "outputs": []
    },
    {
      "cell_type": "code",
      "source": [
        "accuracy_score(y_pred1,train_targets)"
      ],
      "metadata": {
        "colab": {
          "base_uri": "https://localhost:8080/"
        },
        "id": "f963f8hYmbZu",
        "outputId": "d860ea80-a798-4e8a-d2f5-60e3178a6d8e"
      },
      "execution_count": 112,
      "outputs": [
        {
          "output_type": "execute_result",
          "data": {
            "text/plain": [
              "0.5518454545454545"
            ]
          },
          "metadata": {},
          "execution_count": 112
        }
      ]
    },
    {
      "cell_type": "code",
      "source": [
        "print(confusion_matrix(train_targets, y_pred1))"
      ],
      "metadata": {
        "colab": {
          "base_uri": "https://localhost:8080/"
        },
        "id": "Sm-dnbrNmfkP",
        "outputId": "08fe77f8-b4d1-45f6-9966-213bfb922038"
      },
      "execution_count": 115,
      "outputs": [
        {
          "output_type": "stream",
          "name": "stdout",
          "text": [
            "[[  302   437  3649   546     3]\n",
            " [   82  1527 15733  1303    15]\n",
            " [   20   561 54819  1415    27]\n",
            " [    9   294 19199  3618    99]\n",
            " [    1    89  4212  1603   437]]\n"
          ]
        }
      ]
    },
    {
      "cell_type": "code",
      "source": [
        "xgpreds=xg1.predict(val_in)"
      ],
      "metadata": {
        "id": "SK6W36iomhPB"
      },
      "execution_count": 116,
      "outputs": []
    },
    {
      "cell_type": "code",
      "source": [
        "accuracy_score(val_targets,xgpreds)"
      ],
      "metadata": {
        "colab": {
          "base_uri": "https://localhost:8080/"
        },
        "id": "1nj9r6gimhZV",
        "outputId": "a6f68547-d9b6-412a-8e1b-dfb10a8fc935"
      },
      "execution_count": 117,
      "outputs": [
        {
          "output_type": "execute_result",
          "data": {
            "text/plain": [
              "0.5183456361267912"
            ]
          },
          "metadata": {},
          "execution_count": 117
        }
      ]
    },
    {
      "cell_type": "code",
      "source": [
        "test_xg=xg1.predict(test_inputs)"
      ],
      "metadata": {
        "id": "r_2tU3IPmhd8"
      },
      "execution_count": 118,
      "outputs": []
    },
    {
      "cell_type": "code",
      "source": [
        "test_xg"
      ],
      "metadata": {
        "colab": {
          "base_uri": "https://localhost:8080/"
        },
        "id": "GV3BiCk2mhhS",
        "outputId": "a5c6bba8-ef6b-4c7f-969e-3137064af4a3"
      },
      "execution_count": 119,
      "outputs": [
        {
          "output_type": "execute_result",
          "data": {
            "text/plain": [
              "array([2, 2, 2, ..., 2, 2, 2])"
            ]
          },
          "metadata": {},
          "execution_count": 119
        }
      ]
    },
    {
      "cell_type": "code",
      "source": [
        "sub_df.Sentiment=test_xg"
      ],
      "metadata": {
        "id": "qUEJWEn8nBDL"
      },
      "execution_count": 120,
      "outputs": []
    },
    {
      "cell_type": "code",
      "source": [
        "sub_df.to_csv('submissionxg.csv',index=None)"
      ],
      "metadata": {
        "id": "rRu_VFoUnBF2"
      },
      "execution_count": 121,
      "outputs": []
    },
    {
      "cell_type": "markdown",
      "metadata": {
        "id": "88MSU8XH7D8-"
      },
      "source": [
        "Best Model:\n",
        "\n",
        "**Logistic Regression** with accuracy : 0.6077\n",
        "is the best model\n",
        "\n",
        "Decision Tree performed worst due to overfitting ,accuracy :0.52053\n",
        "\n",
        "Xgboost gave accuracy of 0.53967\n",
        "\n",
        "![Screenshot 2023-01-11 124426.jpg](data:image/jpeg;base64,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)\n",
        "\n",
        "(include Kaggle score screenshot)"
      ]
    },
    {
      "cell_type": "markdown",
      "metadata": {
        "id": "zhVGx0VZe6Gg"
      },
      "source": [
        "## Submission and Future Work\n",
        "\n",
        "\n",
        "How to make a submission:\n",
        "\n",
        "- Add documentation and explanations\n",
        "- Clean up any stray code/comments\n",
        "- Include a screenshot of your best score\n",
        "- Make a submission on the assignment page\n",
        "- Review evaluation criteria carefully\n",
        "\n",
        "\n",
        "Future work:\n",
        "- Try more machine learning models\n",
        "- Try configuring CountVectorizer differently\n",
        "- Try approaches other than bag of words\n"
      ]
    }
  ],
  "metadata": {
    "colab": {
      "provenance": []
    },
    "kernelspec": {
      "display_name": "Python 3 (ipykernel)",
      "language": "python",
      "name": "python3"
    },
    "language_info": {
      "codemirror_mode": {
        "name": "ipython",
        "version": 3
      },
      "file_extension": ".py",
      "mimetype": "text/x-python",
      "name": "python",
      "nbconvert_exporter": "python",
      "pygments_lexer": "ipython3",
      "version": "3.9.6"
    }
  },
  "nbformat": 4,
  "nbformat_minor": 0
}